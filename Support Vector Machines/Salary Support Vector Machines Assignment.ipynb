{
 "cells": [
  {
   "cell_type": "markdown",
   "id": "e68b689a",
   "metadata": {},
   "source": [
    "## 1) Prepare a classification model using SVM for salary data \n",
    "\n",
    "Data Description:\n",
    "\n",
    "age -- age of a person\n",
    "workclass\t-- A work class is a grouping of work \n",
    "education\t-- Education of an individuals\t\n",
    "maritalstatus -- Marital status of an individulas\t\n",
    "occupation\t -- occupation of an individuals\n",
    "relationship -- \t\n",
    "race --  Race of an Individual\n",
    "sex --  Gender of an Individual\n",
    "capitalgain --  profit received from the sale of an investment\t\n",
    "capitalloss\t-- A decrease in the value of a capital asset\n",
    "hoursperweek -- number of hours work per week\t\n",
    "native -- Native of an individual\n",
    "Salary -- salary of an individual\n"
   ]
  },
  {
   "cell_type": "code",
   "execution_count": null,
   "id": "a8791cc7",
   "metadata": {},
   "outputs": [],
   "source": [
    "#Import Libraries \n",
    "# Import necessary libraries for data manipulation and visualization\n",
    "import pandas as pd\n",
    "import numpy as np\n",
    "import seaborn as sns\n",
    "import matplotlib.pyplot as plt\n",
    "\n",
    "# Import libraries for machine learning\n",
    "from sklearn.svm import SVC\n",
    "from sklearn.model_selection import train_test_split, cross_val_score, GridSearchCV\n",
    "from sklearn.metrics import classification_report, accuracy_score, confusion_matrix\n"
   ]
  },
  {
   "cell_type": "code",
   "execution_count": null,
   "id": "c083312a",
   "metadata": {},
   "outputs": [],
   "source": [
    "#Load and Preprocess Training Data\n",
    "# Load the training dataset from Google Drive\n",
    "train_data = pd.read_csv('SalaryData_Train(1).csv')\n",
    "\n",
    "# Display the first few rows of the dataset\n",
    "train_data.head()\n",
    "\n",
    "# Remove duplicate entries from the dataset\n",
    "train_data_clean = train_data.drop_duplicates()\n",
    "\n",
    "# Check the structure and data types of the dataset\n",
    "train_data_clean.info()"
   ]
  },
  {
   "cell_type": "code",
   "execution_count": null,
   "id": "84637d0b",
   "metadata": {},
   "outputs": [],
   "source": [
    "#Encode Categorical Variables\n",
    "# Import LabelEncoder to convert categorical variables into numerical format\n",
    "from sklearn.preprocessing import LabelEncoder\n",
    "\n",
    "# Initialize the LabelEncoder\n",
    "encoder = LabelEncoder()\n",
    "\n",
    "# Encode categorical columns\n",
    "for column in ['workclass', 'education', 'maritalstatus', 'occupation', 'relationship', 'race', 'sex', 'native', 'Salary']:\n",
    "  train_data_clean[column] = encoder.fit_transform(train_data_clean[column])\n",
    "\n",
    "# Display the first few rows of the encoded dataset\n",
    "train_data_clean.head()"
   ]
  },
  {
   "cell_type": "code",
   "execution_count": null,
   "id": "0d91aef4",
   "metadata": {},
   "outputs": [],
   "source": [
    "#Visualize Data\n",
    "# Visualize pairwise relationships in the dataset with hue based on 'Salary'\n",
    "sns.pairplot(train_data_clean, hue='Salary')\n",
    "\n",
    "# Display a heatmap of the correlation matrix\n",
    "plt.figure(figsize=(18, 8))\n",
    "sns.heatmap(train_data_clean.corr(), cmap='coolwarm', annot=True, fmt=\".2f\")\n",
    "plt.show()"
   ]
  },
  {
   "cell_type": "code",
   "execution_count": null,
   "id": "8afe5183",
   "metadata": {},
   "outputs": [],
   "source": [
    "#Load and Preprocess Test Data\n",
    "# Load the test dataset from Google Drive\n",
    "test_data = pd.read_csv('/content/drive/MyDrive/Assignment DS/Assignment 17/SalaryData_Test(1).csv')\n",
    "\n",
    "# Remove duplicate entries from the test dataset\n",
    "test_data_clean = test_data.drop_duplicates()\n",
    "\n",
    "# Encode categorical columns in the test dataset\n",
    "for column in ['workclass', 'education', 'maritalstatus', 'occupation', 'relationship', 'race', 'sex', 'native', 'Salary']:\n",
    "  test_data_clean[column] = encoder.fit_transform(test_data_clean[column])\n",
    "\n",
    "# Display the first few rows of the encoded test dataset\n",
    "test_data_clean.head()"
   ]
  },
  {
   "cell_type": "code",
   "execution_count": null,
   "id": "d03a17c1",
   "metadata": {},
   "outputs": [],
   "source": [
    "#Split Features and Labels\n",
    "# Split the training data into features (X) and labels (y)\n",
    "X_train = train_data_clean.drop('Salary', axis=1)\n",
    "y_train = train_data_clean['Salary']\n",
    "\n",
    "# Split the test data into features (X) and labels (y)\n",
    "X_test = test_data_clean.drop('Salary', axis=1)\n",
    "y_test = test_data_clean['Salary']\n",
    "\n",
    "# Display the shapes of the training and test sets\n",
    "X_train.shape, y_train.shape, X_test.shape, y_test.shape"
   ]
  },
  {
   "cell_type": "code",
   "execution_count": null,
   "id": "36a0f57c",
   "metadata": {},
   "outputs": [],
   "source": [
    "#Train and Evaluate SVM with Different Kernels\n",
    "# Train and evaluate SVM with RBF kernel\n",
    "svm_rbf = SVC(kernel='rbf')\n",
    "svm_rbf.fit(X_train, y_train)\n",
    "predictions_rbf = svm_rbf.predict(X_test)\n",
    "print(\"RBF Kernel Accuracy:\", accuracy_score(y_test, predictions_rbf))\n",
    "print(confusion_matrix(y_test, predictions_rbf))"
   ]
  },
  {
   "cell_type": "code",
   "execution_count": null,
   "id": "204098d5",
   "metadata": {},
   "outputs": [],
   "source": [
    "# Train and evaluate SVM with Linear kernel\n",
    "svm_linear = SVC(kernel='linear')\n",
    "svm_linear.fit(X_train, y_train)\n",
    "predictions_linear = svm_linear.predict(X_test)\n",
    "print(\"Linear Kernel Accuracy:\", accuracy_score(y_test, predictions_linear))\n",
    "print(confusion_matrix(y_test, predictions_linear))"
   ]
  },
  {
   "cell_type": "code",
   "execution_count": null,
   "id": "524ab22d",
   "metadata": {},
   "outputs": [],
   "source": [
    "# Train and evaluate SVM with Polynomial kernel\n",
    "svm_poly = SVC(kernel='poly')\n",
    "svm_poly.fit(X_train, y_train)\n",
    "predictions_poly = svm_poly.predict(X_test)\n",
    "print(\"Polynomial Kernel Accuracy:\", accuracy_score(y_test, predictions_poly))\n",
    "print(confusion_matrix(y_test, predictions_poly))"
   ]
  },
  {
   "cell_type": "code",
   "execution_count": null,
   "id": "da4ff337",
   "metadata": {},
   "outputs": [],
   "source": [
    "# Train and evaluate SVM with Sigmoid kernel\n",
    "svm_sigmoid = SVC(kernel='sigmoid')\n",
    "svm_sigmoid.fit(X_train, y_train)\n",
    "predictions_sigmoid = svm_sigmoid.predict(X_test)\n",
    "print(\"Sigmoid Kernel Accuracy:\", accuracy_score(y_test, predictions_sigmoid))\n",
    "print(confusion_matrix(y_test, predictions_sigmoid))"
   ]
  },
  {
   "cell_type": "code",
   "execution_count": null,
   "id": "96cf6c3b",
   "metadata": {},
   "outputs": [],
   "source": [
    "#Hyperparameter Tuning with GridSearchCV\n",
    "# Define parameter grid for RBF kernel\n",
    "param_grid_rbf = {'kernel': ['rbf'], 'gamma': [50, 5, 0.5], 'C': [15, 12, 7, 3, 0.1, 0.0001]}\n",
    "\n",
    "# Initialize GridSearchCV for RBF kernel\n",
    "grid_rbf = GridSearchCV(SVC(), param_grid_rbf, cv=10)\n",
    "grid_rbf.fit(X_train, y_train)\n",
    "\n",
    "# Display best parameters and accuracy\n",
    "print(\"Best Parameters for RBF Kernel:\", grid_rbf.best_params_)\n",
    "print(\"Best Cross-Validation Accuracy for RBF Kernel:\", grid_rbf.best_score_)\n",
    "\n",
    "# Evaluate the best model on the test set\n",
    "best_rbf = grid_rbf.best_estimator_\n",
    "test_accuracy_rbf = accuracy_score(y_test, best_rbf.predict(X_test))\n",
    "print(\"Test Accuracy with Best RBF Kernel:\", test_accuracy_rbf)\n",
    "python\n",
    "\n",
    "Execute\n",
    "\n",
    "Copy Code\n",
    "# Define parameter grid for Linear kernel\n",
    "param_grid_linear = {'kernel': ['linear'], 'C': [15, 11, 7, 2, 0.1, 0.0001]}\n",
    "\n",
    "# Initialize GridSearchCV for Linear kernel\n",
    "grid_linear = GridSearchCV(SVC(), param_grid_linear, cv=10)\n",
    "grid_linear.fit(X_train, y_train)\n",
    "\n",
    "# Display best parameters and accuracy\n",
    "print(\"Best Parameters for Linear Kernel:\", grid_linear.best_params_)\n",
    "print(\"Best Cross-Validation Accuracy for Linear Kernel:\", grid_linear.best_score_)\n",
    "\n",
    "# Evaluate the best model on the test set\n",
    "best_linear = grid_linear.best_estimator_\n",
    "test_accuracy_linear = accuracy_score(y_test, best_linear.predict(X_test))\n",
    "print(\"Test Accuracy with Best Linear Kernel:\", test_accuracy_linear)"
   ]
  },
  {
   "cell_type": "code",
   "execution_count": null,
   "id": "3bdfb702",
   "metadata": {},
   "outputs": [],
   "source": [
    "# Define parameter grid for Polynomial kernel\n",
    "param_grid_poly = {'kernel': ['poly'], 'gamma': [45, 5, 0.5, 0.1], 'C': [15, 10, 5, 3, 0.1, 0.0001]}\n",
    "\n",
    "# Initialize GridSearchCV for Polynomial kernel\n",
    "grid_poly = GridSearchCV(SVC(), param_grid_poly, cv=10)\n",
    "grid_poly.fit(X_train, y_train)\n",
    "\n",
    "# Display best parameters and accuracy\n",
    "print(\"Best Parameters for Polynomial Kernel:\", grid_poly.best_params_)\n",
    "print(\"Best Cross-Validation Accuracy for Polynomial Kernel:\", grid_poly.best_score_)\n",
    "\n",
    "# Evaluate the best model on the test set\n",
    "best_poly = grid_poly.best_estimator_\n",
    "test_accuracy_poly = accuracy_score(y_test, best_poly.predict(X_test))\n",
    "print(\"Test Accuracy with Best Polynomial Kernel:\", test_accuracy_poly)"
   ]
  },
  {
   "cell_type": "code",
   "execution_count": null,
   "id": "730e7bec",
   "metadata": {},
   "outputs": [],
   "source": [
    "# Define parameter grid for Sigmoid kernel\n",
    "param_grid_sigmoid = {'kernel': ['sigmoid'], 'gamma': [50, 5, 0.5], 'C': [15, 12, 7, 0.1, 0.0001]}\n",
    "\n",
    "# Initialize GridSearchCV for Sigmoid kernel\n",
    "grid_sigmoid = GridSearchCV(SVC(), param_grid_sigmoid, cv=10)\n",
    "grid_sigmoid.fit(X_train, y_train)\n",
    "\n",
    "# Display best parameters and accuracy\n",
    "print(\"Best Parameters for Sigmoid Kernel:\", grid_sigmoid.best_params_)\n",
    "print(\"Best Cross-Validation Accuracy for Sigmoid Kernel:\", grid_sigmoid.best_score_)\n",
    "\n",
    "# Evaluate the best model on the test set\n",
    "best_sigmoid = grid_sigmoid.best_estimator_\n",
    "test_accuracy_sigmoid = accuracy_score(y_test, best_sigmoid.predict(X_test))\n",
    "print(\"Test Accuracy with Best Sigmoid Kernel:\", test_accuracy_sigmoid)"
   ]
  },
  {
   "cell_type": "code",
   "execution_count": null,
   "id": "a11ca9d1",
   "metadata": {},
   "outputs": [],
   "source": []
  }
 ],
 "metadata": {
  "kernelspec": {
   "display_name": "Python 3 (ipykernel)",
   "language": "python",
   "name": "python3"
  },
  "language_info": {
   "codemirror_mode": {
    "name": "ipython",
    "version": 3
   },
   "file_extension": ".py",
   "mimetype": "text/x-python",
   "name": "python",
   "nbconvert_exporter": "python",
   "pygments_lexer": "ipython3",
   "version": "3.10.9"
  }
 },
 "nbformat": 4,
 "nbformat_minor": 5
}
