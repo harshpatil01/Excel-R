{
 "cells": [
  {
   "cell_type": "code",
   "execution_count": 4,
   "id": "c5c42da0",
   "metadata": {},
   "outputs": [],
   "source": [
    "import pandas as pd\n",
    "import numpy as np\n",
    "import math\n",
    "import matplotlib.pyplot as plt\n",
    "import seaborn as sns\n",
    "from scipy import stats"
   ]
  },
  {
   "cell_type": "markdown",
   "id": "d2d60a06",
   "metadata": {},
   "source": [
    "#### Q1) Identify the Data type for the Following:"
   ]
  },
  {
   "cell_type": "markdown",
   "id": "4143911a",
   "metadata": {},
   "source": [
    "#### Solution:"
   ]
  },
  {
   "cell_type": "markdown",
   "id": "a4f210d3",
   "metadata": {},
   "source": [
    "Activity :\tData Type\n",
    "\n",
    "Number of beatings from Wife : Discrete\n",
    "\n",
    "Results of rolling a dice : Discrete\n",
    "\n",
    "Weight of a person: Continuous\n",
    "\n",
    "Weight of Gold : Continuous\n",
    "\n",
    "Distance between two places :\tContinuous\n",
    "\n",
    "Length of a leaf\t: Continuous\n",
    "\n",
    "Dog's weight :\tContinuous\n",
    "\n",
    "Blue Color :\tDiscrete\n",
    "\n",
    "Number of kids :\tDiscrete\n",
    "\n",
    "Number of tickets in Indian railways : Discrete\n",
    "\n",
    "Number of times married :\tDiscrete\n",
    "\n",
    "Gender (Male or Female) : \tDiscrete\n"
   ]
  },
  {
   "cell_type": "code",
   "execution_count": null,
   "id": "1324a5b2",
   "metadata": {},
   "outputs": [],
   "source": []
  },
  {
   "cell_type": "markdown",
   "id": "d80a7da1",
   "metadata": {},
   "source": [
    "#### Q2) Identify the Data types, which were among the following      :\n",
    "#### Nominal, Ordinal, Interval, Ratio.\n",
    "\n"
   ]
  },
  {
   "cell_type": "markdown",
   "id": "c4e6171f",
   "metadata": {},
   "source": [
    "#### Solution:"
   ]
  },
  {
   "cell_type": "markdown",
   "id": "087594df",
   "metadata": {},
   "source": [
    "Nominal is the data that can be only categorized. \n",
    "\n",
    "Used to categorize data into mutually exclusive categories or groups.\n",
    "Ordinal is the data that can be categorized and ranked too. \n",
    "\n",
    "Used to measure variables in a natural order, such as rating or ranking.\n",
    "\n",
    "They provide meaningful insights into attitudes, preferences, and behaviors by understanding the order of responses.\n",
    "\n",
    "Interval is the data that can be categorized, and ranked and evenly spaced. Used to measure variables with equal intervals between values. This type of measurement is often used for temperature and time, allowing for precise comparisons and calculations.\n",
    "\n",
    "\n",
    "#Ratio is the data can be categorized, ranked, evenly spaced and a natural zero. Allows for comparisons and computations such as ratios, percentages, and averages. Great for research in fields like science, engineering, and finance, where you need to use ratios, percentages, and averages to understand the data.\n",
    "\n",
    "\n",
    "Data : Data Type\n",
    "\n",
    "Gender\t: Nominal(Discrete)\n",
    "\n",
    "High School Class Ranking: Ordinal(Discrete)\n",
    "\n",
    "Celsius Temperature\t: Interval(Continuous)\n",
    "\n",
    "Weight\t: Ratio(Continuous)\n",
    "\n",
    "Hair Color :\tNominal(Discrete)\n",
    "\n",
    "Socioeconomic Status: Ordinal(Discrete)\n",
    "\n",
    "Fahrenheit Temperature\t: Interval(Continuous)\n",
    "\n",
    "Height: Ratio(Continuous)\n",
    "\n",
    "Type of living accommodation :\tOrdinal(Discrete)\n",
    "\n",
    "Level of Agreement :\tOrdinal(Discrete)\n",
    "\n",
    "IQ(Intelligence Scale) :\tRatio(Discrete)\n",
    "\n",
    "Sales Figures :\tInterval(Discrete)\n",
    "\n",
    "Blood Group :\tNominal(Discrete)\n",
    "\n",
    "Time Of Day :\tNominal(Discrete)\n",
    "\n",
    "Time on a Clock with Hands :\tRatio(Discrete)\n",
    "\n",
    "Number of Children\t: Ordinal(Discrete)\n",
    "\n",
    "Religious Preference :\tNominal(Discrete)\n",
    "\n",
    "Barometer Pressure :\tRatio(Continuous)\n",
    "\n",
    "SAT Scores\t: Ratio(Continuous)\n",
    "\n",
    "Years of Education :\tInterval(Continuous\n"
   ]
  },
  {
   "cell_type": "code",
   "execution_count": null,
   "id": "a47b9f7a",
   "metadata": {},
   "outputs": [],
   "source": []
  },
  {
   "cell_type": "markdown",
   "id": "7e6e6dc6",
   "metadata": {},
   "source": [
    "#### Q3) Three Coins are tossed, find the probability that two heads and one tail are obtained?\n",
    "\n"
   ]
  },
  {
   "cell_type": "markdown",
   "id": "f671aa24",
   "metadata": {},
   "source": [
    "#### Solution:"
   ]
  },
  {
   "cell_type": "code",
   "execution_count": 2,
   "id": "2b2359b7",
   "metadata": {},
   "outputs": [
    {
     "name": "stdout",
     "output_type": "stream",
     "text": [
      "probability that two heads and one tail are obtained is 0.375\n"
     ]
    }
   ],
   "source": [
    "#The sample space is defined by :\n",
    "#S={ (H,H,H), (T,T,T), (T,H,H),(T,T,H), (H,T,T),(H,H,T),(T,H,T), (H,T,H)}\n",
    "#Total no. of outcomes =8\n",
    "#P( H=2 & T=1) = 1/8+1/8+1/8 = 3/8\n",
    "\n",
    "#Sample space\n",
    "s=8;\n",
    "\n",
    "#Outcomes\n",
    "o=3;\n",
    "\n",
    "#Divide possible outcomes \n",
    "P=o/s;\n",
    "\n",
    "print('probability that two heads and one tail are obtained is',P);"
   ]
  },
  {
   "cell_type": "code",
   "execution_count": null,
   "id": "f059f90a",
   "metadata": {},
   "outputs": [],
   "source": []
  },
  {
   "cell_type": "markdown",
   "id": "0fce02f2",
   "metadata": {},
   "source": [
    "### Q4)  Two Dice are rolled, find the probability that sum is:                                                       a)\tEqual to 1                                                                                                                                  b)\tLess than or equal to 4                                                                                                              c)\tSum is divisible by 2 and  3\n"
   ]
  },
  {
   "cell_type": "markdown",
   "id": "fe96f660",
   "metadata": {},
   "source": [
    "#### Solution:"
   ]
  },
  {
   "cell_type": "markdown",
   "id": "aed63794",
   "metadata": {},
   "source": [
    "Sample Space if two dices are rolled :\n",
    "(1,1) , (1,2), (1,3) , (1, 4) , (1,5), (1,6) (2,1) , (2,2), (2,3) , (2, 4) , (2,5), (2,6),\n",
    "(3,1) , (3,2), (3,3) , (3, 4) , (3,5), (3,6), (4,1) , (4,2), (4,3) , (4, 4) , (4,5), (4,6),\n",
    "(5,1) , (5,2), (5,3) , (5, 4) , (5,5), (5,6), (6,1) , (6,2), (6,3) , (6, 4) , (6,5), (6,6) \n",
    "\n",
    "Sample Space Size = 36\n",
    "a)\tEqual to 1 \n",
    "Total number of possible outcomes =0\n",
    "Probability = Total number of possible outcomes / Sample Space Size=  0 / 36 = 0\n",
    "\n",
    "b)\tLess than or equal to 4\n",
    "\n",
    "Total number of possible outcomes = 6\n",
    "Probability =  Total number of possible outcomes / Sample Space Size= 6 / 36 = 1/6 \n",
    "\n",
    "c)\tSum is divisible by 2 and  3\n",
    "\n",
    "Total number of possible outcomes = 10\n",
    "\n",
    " Probability =  Total number of possible outcomes / Sample Space Size= 10 / 36 \n"
   ]
  },
  {
   "cell_type": "code",
   "execution_count": 9,
   "id": "249df436",
   "metadata": {},
   "outputs": [
    {
     "name": "stdout",
     "output_type": "stream",
     "text": [
      " (a) probability is equal to 0.0\n",
      " (b) probability is equal to 0.16666666666666666\n",
      "(c) probability is equal to 0.2777777777777778\n"
     ]
    }
   ],
   "source": [
    "# (a)\n",
    "#Sample Size\n",
    "s=36;\n",
    "\n",
    "#outcomes\n",
    "o=0;\n",
    "\n",
    "#Divide possible outcomes \n",
    "P=o/s;\n",
    "\n",
    "print(' (a) probability is equal to',P);\n",
    "\n",
    "\n",
    "#(b)\n",
    "#Sample Size\n",
    "s=36;\n",
    "\n",
    "#outcomes\n",
    "o=6;\n",
    "\n",
    "#Divide possible outcomes \n",
    "P=o/s;\n",
    "\n",
    "print(' (b) probability is equal to',P);\n",
    "\n",
    "\n",
    "#(c)\n",
    "#Sample Size\n",
    "s=36;\n",
    "\n",
    "#outcomes\n",
    "o=10;\n",
    "\n",
    "#Divide possible outcomes \n",
    "P=o/s;\n",
    "\n",
    "print('(c) probability is equal to',P);\n"
   ]
  },
  {
   "cell_type": "code",
   "execution_count": null,
   "id": "bad86648",
   "metadata": {},
   "outputs": [],
   "source": []
  },
  {
   "cell_type": "markdown",
   "id": "837c353f",
   "metadata": {},
   "source": [
    "#### Q5) A bag contains 2 red, 3 green and 2 blue balls. Two balls are drawn at random.What is the probability that none of the balls drawn is blue?"
   ]
  },
  {
   "cell_type": "markdown",
   "id": "482f97d3",
   "metadata": {},
   "source": [
    "#### Solution:"
   ]
  },
  {
   "cell_type": "markdown",
   "id": "c5072c3a",
   "metadata": {},
   "source": [
    "Total number of balls = 7 balls\n",
    "\n",
    "Sample Space (S):\n",
    "\n",
    "To calculate the sample space we use the permutation and combinations functions\n",
    "\n",
    "Total number of ways of drawing 2 balls n(S) = 7C2 = (7x6)/(2x1)=21\n",
    "\n",
    "Number of ways to draw 2  balls at random = 21\n",
    "\n",
    "As there is a mention of blue balls being left out \n",
    "\n",
    "Total number of balls now is 5.\n",
    "\n",
    "Now drawing 2 balls from 5 balls is the event\n",
    "\n",
    "Total number of ways of drawing 2 balls n(E) = 5C2 = (5x4)/2x1 =10\n",
    "\n",
    "Probability that none of the balls drawn is blue = n(E)/ n(S) =10/21"
   ]
  },
  {
   "cell_type": "code",
   "execution_count": 6,
   "id": "0b4ae504",
   "metadata": {},
   "outputs": [
    {
     "name": "stdout",
     "output_type": "stream",
     "text": [
      "Total number of balls : 7\n",
      "Number of ways to draw 2  balls at random : 21\n",
      "Total number of balls after blue balls are not taken : 5\n",
      "Number of ways to draw 2 balls at random after blue balls are not present 10\n",
      "Probability that none of the balls drawn is blue 0.47619047619047616\n"
     ]
    }
   ],
   "source": [
    "n1=7;\n",
    "print('Total number of balls :',n1);\n",
    "#Determining the number of ways picking up 2 balls using permutation\n",
    "nS=math.comb(7,2)\n",
    "print('Number of ways to draw 2  balls at random :',nS);\n",
    "n2=5;\n",
    "print('Total number of balls after blue balls are not taken :',n2);\n",
    "nE=math.comb(5,2)\n",
    "print('Number of ways to draw 2 balls at random after blue balls are not present',nE);\n",
    "Pe=nE/nS;\n",
    "print('Probability that none of the balls drawn is blue',Pe);"
   ]
  },
  {
   "cell_type": "code",
   "execution_count": null,
   "id": "adfa0cd1",
   "metadata": {},
   "outputs": [],
   "source": []
  },
  {
   "cell_type": "markdown",
   "id": "80f386c7",
   "metadata": {},
   "source": [
    "#### Q6) Calculate the Expected number of candies for a randomly selected child "
   ]
  },
  {
   "cell_type": "markdown",
   "id": "327d0f41",
   "metadata": {},
   "source": [
    "#### Solution:"
   ]
  },
  {
   "cell_type": "raw",
   "id": "a3e6ab22",
   "metadata": {},
   "source": [
    "Below are the probabilities of count of candies for children (ignoring the nature of the child-Generalized view)\n",
    "\n",
    "\n",
    "CHILD\tCandies count\tProbability\n",
    "A\t1\t0.015\n",
    "B\t4\t0.20\n",
    "C\t3\t0.65\n",
    "D\t5\t0.005\n",
    "E\t6\t0.0\n",
    "F\t2\t0.120\n",
    "Child A – probability of having 1 candy = 0.015.\n",
    "Child B – probability of having 4 candies = 0.20"
   ]
  },
  {
   "cell_type": "code",
   "execution_count": 7,
   "id": "38f20a7e",
   "metadata": {},
   "outputs": [
    {
     "name": "stdout",
     "output_type": "stream",
     "text": [
      "Expected number of candies for a randomly selected child: 3.09\n"
     ]
    }
   ],
   "source": [
    "#Creating a data frame with rows and columns\n",
    "df=pd.DataFrame(columns=['Child','Candies Count','Probability'])\n",
    "df['Child']=['A','B','C','D','E','F'];\n",
    "df['Candies Count']=[1,4,3,5,6,2];\n",
    "df['Probability']=[0.015,0.20,0.65,0.005,0.01,0.120];\n",
    "df\n",
    "\n",
    "#Calculating the expected value by multiplying column values and then adding them\n",
    "ExpectedValue=(df['Candies Count']*df['Probability']).sum();\n",
    "print('Expected number of candies for a randomly selected child:', ExpectedValue);\n"
   ]
  },
  {
   "cell_type": "code",
   "execution_count": null,
   "id": "ca1a4a5f",
   "metadata": {},
   "outputs": [],
   "source": []
  },
  {
   "cell_type": "markdown",
   "id": "f0c4ef2e",
   "metadata": {},
   "source": [
    "#### Q7) Calculate Mean, Median, Mode, Variance, Standard Deviation, Range & comment about the values / draw inferences, for the given dataset\n",
    "#### For Points,Score,Weigh>\n",
    "#### Find Mean, Median, Mode, Variance, Standard Deviation, and Range and also Comment about the values/ Draw some inferences.\n",
    "#### Use Q7.csv file "
   ]
  },
  {
   "cell_type": "markdown",
   "id": "1b39d7d5",
   "metadata": {},
   "source": [
    "#### Solution:"
   ]
  },
  {
   "cell_type": "code",
   "execution_count": 59,
   "id": "7154d034",
   "metadata": {},
   "outputs": [
    {
     "name": "stdout",
     "output_type": "stream",
     "text": [
      "Mean of Points: 3.5965625\n",
      "Mean of Score: 3.2172500000000004\n",
      "Mean of Weigh: 17.848750000000003\n",
      "mode of Points: ModeResult(mode=array([3.07]), count=array([3]))\n",
      "mode of Score: ModeResult(mode=array([3.44]), count=array([3]))\n",
      "mode of Weigh: ModeResult(mode=array([17.02]), count=array([2]))\n",
      "median of Points: 3.6950000000000003\n",
      "median of Score: 3.325\n",
      "median of Weigh: 17.71\n",
      "Variance of Points: 0.27694755859375003\n",
      "Variance of Score: 0.9274608750000002\n",
      "Variance of Weigh: 3.0933796874999997\n",
      "SD of Points: 0.5262580722361891\n",
      "SD of Score: 0.9630477013107919\n",
      "SD of Weigh: 1.758800638929836\n",
      "Range_of_points: 2.17\n",
      "Range_of_Score: 3.9110000000000005\n",
      "Range_of_Weigh: 8.399999999999999\n"
     ]
    },
    {
     "name": "stderr",
     "output_type": "stream",
     "text": [
      "C:\\Users\\harsh\\AppData\\Local\\Temp\\ipykernel_13120\\1496384447.py:20: FutureWarning: Unlike other reduction functions (e.g. `skew`, `kurtosis`), the default behavior of `mode` typically preserves the axis it acts along. In SciPy 1.11.0, this behavior will change: the default value of `keepdims` will become False, the `axis` over which the statistic is taken will be eliminated, and the value None will no longer be accepted. Set `keepdims` to True or False to avoid this warning.\n",
      "  mode_of_Points=stats.mode(data['Points']);\n",
      "C:\\Users\\harsh\\AppData\\Local\\Temp\\ipykernel_13120\\1496384447.py:23: FutureWarning: Unlike other reduction functions (e.g. `skew`, `kurtosis`), the default behavior of `mode` typically preserves the axis it acts along. In SciPy 1.11.0, this behavior will change: the default value of `keepdims` will become False, the `axis` over which the statistic is taken will be eliminated, and the value None will no longer be accepted. Set `keepdims` to True or False to avoid this warning.\n",
      "  mode_of_Score=stats.mode(data['Score']);\n",
      "C:\\Users\\harsh\\AppData\\Local\\Temp\\ipykernel_13120\\1496384447.py:26: FutureWarning: Unlike other reduction functions (e.g. `skew`, `kurtosis`), the default behavior of `mode` typically preserves the axis it acts along. In SciPy 1.11.0, this behavior will change: the default value of `keepdims` will become False, the `axis` over which the statistic is taken will be eliminated, and the value None will no longer be accepted. Set `keepdims` to True or False to avoid this warning.\n",
      "  mode_of_Weigh=stats.mode(data['Weigh']);\n"
     ]
    },
    {
     "data": {
      "text/html": [
       "<div>\n",
       "<style scoped>\n",
       "    .dataframe tbody tr th:only-of-type {\n",
       "        vertical-align: middle;\n",
       "    }\n",
       "\n",
       "    .dataframe tbody tr th {\n",
       "        vertical-align: top;\n",
       "    }\n",
       "\n",
       "    .dataframe thead th {\n",
       "        text-align: right;\n",
       "    }\n",
       "</style>\n",
       "<table border=\"1\" class=\"dataframe\">\n",
       "  <thead>\n",
       "    <tr style=\"text-align: right;\">\n",
       "      <th></th>\n",
       "      <th>Unnamed: 0</th>\n",
       "      <th>Points</th>\n",
       "      <th>Score</th>\n",
       "      <th>Weigh</th>\n",
       "    </tr>\n",
       "  </thead>\n",
       "  <tbody>\n",
       "    <tr>\n",
       "      <th>0</th>\n",
       "      <td>Mazda RX4</td>\n",
       "      <td>3.90</td>\n",
       "      <td>2.620</td>\n",
       "      <td>16.46</td>\n",
       "    </tr>\n",
       "    <tr>\n",
       "      <th>1</th>\n",
       "      <td>Mazda RX4 Wag</td>\n",
       "      <td>3.90</td>\n",
       "      <td>2.875</td>\n",
       "      <td>17.02</td>\n",
       "    </tr>\n",
       "    <tr>\n",
       "      <th>2</th>\n",
       "      <td>Datsun 710</td>\n",
       "      <td>3.85</td>\n",
       "      <td>2.320</td>\n",
       "      <td>18.61</td>\n",
       "    </tr>\n",
       "    <tr>\n",
       "      <th>3</th>\n",
       "      <td>Hornet 4 Drive</td>\n",
       "      <td>3.08</td>\n",
       "      <td>3.215</td>\n",
       "      <td>19.44</td>\n",
       "    </tr>\n",
       "    <tr>\n",
       "      <th>4</th>\n",
       "      <td>Hornet Sportabout</td>\n",
       "      <td>3.15</td>\n",
       "      <td>3.440</td>\n",
       "      <td>17.02</td>\n",
       "    </tr>\n",
       "    <tr>\n",
       "      <th>5</th>\n",
       "      <td>Valiant</td>\n",
       "      <td>2.76</td>\n",
       "      <td>3.460</td>\n",
       "      <td>20.22</td>\n",
       "    </tr>\n",
       "    <tr>\n",
       "      <th>6</th>\n",
       "      <td>Duster 360</td>\n",
       "      <td>3.21</td>\n",
       "      <td>3.570</td>\n",
       "      <td>15.84</td>\n",
       "    </tr>\n",
       "    <tr>\n",
       "      <th>7</th>\n",
       "      <td>Merc 240D</td>\n",
       "      <td>3.69</td>\n",
       "      <td>3.190</td>\n",
       "      <td>20.00</td>\n",
       "    </tr>\n",
       "    <tr>\n",
       "      <th>8</th>\n",
       "      <td>Merc 230</td>\n",
       "      <td>3.92</td>\n",
       "      <td>3.150</td>\n",
       "      <td>22.90</td>\n",
       "    </tr>\n",
       "    <tr>\n",
       "      <th>9</th>\n",
       "      <td>Merc 280</td>\n",
       "      <td>3.92</td>\n",
       "      <td>3.440</td>\n",
       "      <td>18.30</td>\n",
       "    </tr>\n",
       "    <tr>\n",
       "      <th>10</th>\n",
       "      <td>Merc 280C</td>\n",
       "      <td>3.92</td>\n",
       "      <td>3.440</td>\n",
       "      <td>18.90</td>\n",
       "    </tr>\n",
       "    <tr>\n",
       "      <th>11</th>\n",
       "      <td>Merc 450SE</td>\n",
       "      <td>3.07</td>\n",
       "      <td>4.070</td>\n",
       "      <td>17.40</td>\n",
       "    </tr>\n",
       "    <tr>\n",
       "      <th>12</th>\n",
       "      <td>Merc 450SL</td>\n",
       "      <td>3.07</td>\n",
       "      <td>3.730</td>\n",
       "      <td>17.60</td>\n",
       "    </tr>\n",
       "    <tr>\n",
       "      <th>13</th>\n",
       "      <td>Merc 450SLC</td>\n",
       "      <td>3.07</td>\n",
       "      <td>3.780</td>\n",
       "      <td>18.00</td>\n",
       "    </tr>\n",
       "    <tr>\n",
       "      <th>14</th>\n",
       "      <td>Cadillac Fleetwood</td>\n",
       "      <td>2.93</td>\n",
       "      <td>5.250</td>\n",
       "      <td>17.98</td>\n",
       "    </tr>\n",
       "    <tr>\n",
       "      <th>15</th>\n",
       "      <td>Lincoln Continental</td>\n",
       "      <td>3.00</td>\n",
       "      <td>5.424</td>\n",
       "      <td>17.82</td>\n",
       "    </tr>\n",
       "    <tr>\n",
       "      <th>16</th>\n",
       "      <td>Chrysler Imperial</td>\n",
       "      <td>3.23</td>\n",
       "      <td>5.345</td>\n",
       "      <td>17.42</td>\n",
       "    </tr>\n",
       "    <tr>\n",
       "      <th>17</th>\n",
       "      <td>Fiat 128</td>\n",
       "      <td>4.08</td>\n",
       "      <td>2.200</td>\n",
       "      <td>19.47</td>\n",
       "    </tr>\n",
       "    <tr>\n",
       "      <th>18</th>\n",
       "      <td>Honda Civic</td>\n",
       "      <td>4.93</td>\n",
       "      <td>1.615</td>\n",
       "      <td>18.52</td>\n",
       "    </tr>\n",
       "    <tr>\n",
       "      <th>19</th>\n",
       "      <td>Toyota Corolla</td>\n",
       "      <td>4.22</td>\n",
       "      <td>1.835</td>\n",
       "      <td>19.90</td>\n",
       "    </tr>\n",
       "    <tr>\n",
       "      <th>20</th>\n",
       "      <td>Toyota Corona</td>\n",
       "      <td>3.70</td>\n",
       "      <td>2.465</td>\n",
       "      <td>20.01</td>\n",
       "    </tr>\n",
       "    <tr>\n",
       "      <th>21</th>\n",
       "      <td>Dodge Challenger</td>\n",
       "      <td>2.76</td>\n",
       "      <td>3.520</td>\n",
       "      <td>16.87</td>\n",
       "    </tr>\n",
       "    <tr>\n",
       "      <th>22</th>\n",
       "      <td>AMC Javelin</td>\n",
       "      <td>3.15</td>\n",
       "      <td>3.435</td>\n",
       "      <td>17.30</td>\n",
       "    </tr>\n",
       "    <tr>\n",
       "      <th>23</th>\n",
       "      <td>Camaro Z28</td>\n",
       "      <td>3.73</td>\n",
       "      <td>3.840</td>\n",
       "      <td>15.41</td>\n",
       "    </tr>\n",
       "    <tr>\n",
       "      <th>24</th>\n",
       "      <td>Pontiac Firebird</td>\n",
       "      <td>3.08</td>\n",
       "      <td>3.845</td>\n",
       "      <td>17.05</td>\n",
       "    </tr>\n",
       "    <tr>\n",
       "      <th>25</th>\n",
       "      <td>Fiat X1-9</td>\n",
       "      <td>4.08</td>\n",
       "      <td>1.935</td>\n",
       "      <td>18.90</td>\n",
       "    </tr>\n",
       "    <tr>\n",
       "      <th>26</th>\n",
       "      <td>Porsche 914-2</td>\n",
       "      <td>4.43</td>\n",
       "      <td>2.140</td>\n",
       "      <td>16.70</td>\n",
       "    </tr>\n",
       "    <tr>\n",
       "      <th>27</th>\n",
       "      <td>Lotus Europa</td>\n",
       "      <td>3.77</td>\n",
       "      <td>1.513</td>\n",
       "      <td>16.90</td>\n",
       "    </tr>\n",
       "    <tr>\n",
       "      <th>28</th>\n",
       "      <td>Ford Pantera L</td>\n",
       "      <td>4.22</td>\n",
       "      <td>3.170</td>\n",
       "      <td>14.50</td>\n",
       "    </tr>\n",
       "    <tr>\n",
       "      <th>29</th>\n",
       "      <td>Ferrari Dino</td>\n",
       "      <td>3.62</td>\n",
       "      <td>2.770</td>\n",
       "      <td>15.50</td>\n",
       "    </tr>\n",
       "    <tr>\n",
       "      <th>30</th>\n",
       "      <td>Maserati Bora</td>\n",
       "      <td>3.54</td>\n",
       "      <td>3.570</td>\n",
       "      <td>14.60</td>\n",
       "    </tr>\n",
       "    <tr>\n",
       "      <th>31</th>\n",
       "      <td>Volvo 142E</td>\n",
       "      <td>4.11</td>\n",
       "      <td>2.780</td>\n",
       "      <td>18.60</td>\n",
       "    </tr>\n",
       "  </tbody>\n",
       "</table>\n",
       "</div>"
      ],
      "text/plain": [
       "             Unnamed: 0  Points  Score  Weigh\n",
       "0             Mazda RX4    3.90  2.620  16.46\n",
       "1         Mazda RX4 Wag    3.90  2.875  17.02\n",
       "2            Datsun 710    3.85  2.320  18.61\n",
       "3        Hornet 4 Drive    3.08  3.215  19.44\n",
       "4     Hornet Sportabout    3.15  3.440  17.02\n",
       "5               Valiant    2.76  3.460  20.22\n",
       "6            Duster 360    3.21  3.570  15.84\n",
       "7             Merc 240D    3.69  3.190  20.00\n",
       "8              Merc 230    3.92  3.150  22.90\n",
       "9              Merc 280    3.92  3.440  18.30\n",
       "10            Merc 280C    3.92  3.440  18.90\n",
       "11           Merc 450SE    3.07  4.070  17.40\n",
       "12           Merc 450SL    3.07  3.730  17.60\n",
       "13          Merc 450SLC    3.07  3.780  18.00\n",
       "14   Cadillac Fleetwood    2.93  5.250  17.98\n",
       "15  Lincoln Continental    3.00  5.424  17.82\n",
       "16    Chrysler Imperial    3.23  5.345  17.42\n",
       "17             Fiat 128    4.08  2.200  19.47\n",
       "18          Honda Civic    4.93  1.615  18.52\n",
       "19       Toyota Corolla    4.22  1.835  19.90\n",
       "20        Toyota Corona    3.70  2.465  20.01\n",
       "21     Dodge Challenger    2.76  3.520  16.87\n",
       "22          AMC Javelin    3.15  3.435  17.30\n",
       "23           Camaro Z28    3.73  3.840  15.41\n",
       "24     Pontiac Firebird    3.08  3.845  17.05\n",
       "25            Fiat X1-9    4.08  1.935  18.90\n",
       "26        Porsche 914-2    4.43  2.140  16.70\n",
       "27         Lotus Europa    3.77  1.513  16.90\n",
       "28       Ford Pantera L    4.22  3.170  14.50\n",
       "29         Ferrari Dino    3.62  2.770  15.50\n",
       "30        Maserati Bora    3.54  3.570  14.60\n",
       "31           Volvo 142E    4.11  2.780  18.60"
      ]
     },
     "execution_count": 59,
     "metadata": {},
     "output_type": "execute_result"
    }
   ],
   "source": [
    "#Reading the Q7 csv file from the folder\n",
    "data=pd.read_csv('Q7.csv');\n",
    "mean_of_Points=np.average(data['Points']);\n",
    "print('Mean of Points:',mean_of_Points);\n",
    "\n",
    "mean_of_Score=np.average(data['Score']);\n",
    "print('Mean of Score:',mean_of_Score);\n",
    "\n",
    "mean_of_Weigh=np.average(data['Weigh']);\n",
    "print('Mean of Weigh:',mean_of_Weigh);\n",
    "\n",
    "mode_of_Points=stats.mode(data['Points']);\n",
    "print('mode of Points:',mode_of_Points);\n",
    "\n",
    "mode_of_Score=stats.mode(data['Score']);\n",
    "print('mode of Score:',mode_of_Score);\n",
    "\n",
    "mode_of_Weigh=stats.mode(data['Weigh']);\n",
    "print('mode of Weigh:',mode_of_Weigh);\n",
    "\n",
    "median_of_Points=np.median(data['Points']);\n",
    "print('median of Points:',median_of_Points);\n",
    "\n",
    "median_of_Score=np.median(data['Score']);\n",
    "print('median of Score:',median_of_Score);\n",
    "\n",
    "median_of_Weigh=np.median(data['Weigh']);\n",
    "print('median of Weigh:',median_of_Weigh);\n",
    "\n",
    "Variance_of_Points=np.var(data['Points']);\n",
    "print('Variance of Points:',Variance_of_Points);\n",
    "\n",
    "Variance_of_Score=np.var(data['Score']);\n",
    "print('Variance of Score:',Variance_of_Score);\n",
    "\n",
    "Variance_of_Weigh=np.var(data['Weigh']);\n",
    "print('Variance of Weigh:',Variance_of_Weigh);\n",
    "\n",
    "SD_of_Points=np.std(data['Points']);\n",
    "print('SD of Points:',SD_of_Points);\n",
    "\n",
    "SD_of_Score=np.std(data['Score']);\n",
    "print('SD of Score:',SD_of_Score);\n",
    "\n",
    "SD_of_Weigh=np.std(data['Weigh']);\n",
    "print('SD of Weigh:',SD_of_Weigh);\n",
    "\n",
    "Max_of_Points=np.max(data['Points']);\n",
    "Min_of_Points=np.min(data['Points']);\n",
    "Range_of_points=Max_of_Points-Min_of_Points;\n",
    "print('Range_of_points:',Range_of_points);\n",
    "\n",
    "Max_of_Score=np.max(data['Score']);\n",
    "Min_of_Score=np.min(data['Score']);\n",
    "Range_of_Score=Max_of_Score-Min_of_Score;\n",
    "print('Range_of_Score:',Range_of_Score);\n",
    "\n",
    "Max_of_Weigh=np.max(data['Weigh']);\n",
    "Min_of_Weigh=np.min(data['Weigh']);\n",
    "Range_of_Weigh=Max_of_Weigh-Min_of_Weigh;\n",
    "print('Range_of_Weigh:',Range_of_Weigh);\n",
    "\n",
    "data\n",
    "\n",
    "#Inference : \n",
    "#The mean, median and mode of Points, Score and weigh lie near to each other and do not have any such major difference.\n",
    "#The highest deviation in values is that of weigh when compared to Points and Score.\n",
    "#The difference between maximum and minimum is more in the weigh column, whereas that of Score is half of that and that of points is approximately half of what Score is.\n"
   ]
  },
  {
   "cell_type": "code",
   "execution_count": null,
   "id": "dd484147",
   "metadata": {},
   "outputs": [],
   "source": []
  },
  {
   "cell_type": "markdown",
   "id": "37aa258f",
   "metadata": {},
   "source": [
    "#### Q8) Calculate Expected Value for the problem below\n",
    "a)\tThe weights (X) of patients at a clinic (in pounds), are\n",
    "108, 110, 123, 134, 135, 145, 167, 187, 199\n",
    "Assume one of the patients is chosen at random. What is the Expected Value of the Weight of that patient?"
   ]
  },
  {
   "cell_type": "markdown",
   "id": "9c3f0ac6",
   "metadata": {},
   "source": [
    "#### Solution : "
   ]
  },
  {
   "cell_type": "code",
   "execution_count": 8,
   "id": "be69f1b5",
   "metadata": {},
   "outputs": [
    {
     "name": "stdout",
     "output_type": "stream",
     "text": [
      "The Expected Value of the Weight of the patient is : 145.33333333333334 pounds\n"
     ]
    }
   ],
   "source": [
    "#Creating a data frame with columns\n",
    "ds=pd.DataFrame(columns=['Weight'])\n",
    "#Creating a weight column and adding the rows of the column\n",
    "ds['Weight']=[108, 110, 123, 134, 135, 145, 167, 187, 199]\n",
    "#Calculating the mean as its nu which is equal to the expected value\n",
    "ds_mean=np.mean(ds['Weight'])\n",
    "print('The Expected Value of the Weight of the patient is :',ds_mean,'pounds');"
   ]
  },
  {
   "cell_type": "code",
   "execution_count": null,
   "id": "afd12dec",
   "metadata": {},
   "outputs": [],
   "source": []
  },
  {
   "cell_type": "markdown",
   "id": "56460231",
   "metadata": {},
   "source": [
    "#### Q9 . Calculate Skewness, Kurtosis & draw inferences on the following data\n",
    "####    Cars speed and distance \n",
    "#### Use Q9_a.csv\n"
   ]
  },
  {
   "cell_type": "markdown",
   "id": "96b0c2dc",
   "metadata": {},
   "source": [
    "#### Solution: "
   ]
  },
  {
   "cell_type": "code",
   "execution_count": 9,
   "id": "a4f33a97",
   "metadata": {},
   "outputs": [
    {
     "name": "stdout",
     "output_type": "stream",
     "text": [
      "Skewness of Speed: -0.11395477012828319\n",
      "Skewness of Distance: 0.7824835173114966\n",
      "Kurtosis of Speed: -0.5771474239437371\n",
      "Kurtosis of Distance: 0.24801865717051808\n",
      "Skewness of SP: 1.5814536794423764\n",
      "Skewness of WT: -0.6033099322115126\n",
      "Kurtosis of SP: 2.7235214865269244\n",
      "Kurtosis of WT: 0.8194658792266849\n"
     ]
    }
   ],
   "source": [
    "df1=pd.read_csv('Q9_a.csv');\n",
    "\n",
    "\n",
    "skewness_of_speed=stats.skew(df1['speed']);\n",
    "print('Skewness of Speed:',skewness_of_speed);\n",
    "\n",
    "skewness_of_distance=stats.skew(df1['dist']);\n",
    "print('Skewness of Distance:',skewness_of_distance);\n",
    "\n",
    "\n",
    "kurtosis_of_speed=stats.kurtosis(df1['speed']);\n",
    "print('Kurtosis of Speed:',kurtosis_of_speed);\n",
    "\n",
    "kurtosis_of_distance=stats.kurtosis(df1['dist']);\n",
    "print('Kurtosis of Distance:',kurtosis_of_distance);\n",
    "\n",
    "\n",
    "#Use Q9_b.csv\n",
    "df2=pd.read_csv('Q9_b.csv');\n",
    "\n",
    "skewness_of_SP=stats.skew(df2['SP']);\n",
    "print('Skewness of SP:',skewness_of_SP);\n",
    "\n",
    "skewness_of_WT=stats.skew(df2['WT']);\n",
    "print('Skewness of WT:',skewness_of_WT);\n",
    "\n",
    "kurtosis_of_SP=stats.kurtosis(df2['SP']);\n",
    "print('Kurtosis of SP:',kurtosis_of_SP);\n",
    "\n",
    "kurtosis_of_WT=stats.kurtosis(df2['WT']);\n",
    "print('Kurtosis of WT:',kurtosis_of_WT);\n"
   ]
  },
  {
   "cell_type": "code",
   "execution_count": null,
   "id": "0e1785f4",
   "metadata": {},
   "outputs": [],
   "source": []
  },
  {
   "cell_type": "markdown",
   "id": "f755d0f0",
   "metadata": {},
   "source": [
    "#### Q11)  Suppose we want to estimate the average weight of an adult male in  Mexico. \n",
    "#### We draw a random sample of 2,000 men from a population of 3,000,000 men and weigh them. \n",
    "#### We find that the average person in our sample weighs 200 pounds, and the standard deviation of the sample is 30 pounds. \n",
    "#### Calculate 94%,98%,96% confidence interval?"
   ]
  },
  {
   "cell_type": "markdown",
   "id": "b110edb8",
   "metadata": {},
   "source": [
    "#### Solution: "
   ]
  },
  {
   "cell_type": "markdown",
   "id": "291b33dc",
   "metadata": {},
   "source": [
    "\n",
    "The sample mean is the average weight of the sample, which is 200 pounds in this case.\n",
    "\n",
    "Sample Mean(nu) = 200 pounds\n",
    "\n",
    "Standard Deviation = 30 pounds\n",
    "\n",
    "Sample Size(n) = 2000\n",
    "\n",
    "n-1= 1999\n",
    "\n",
    "Calculating the standard error ,\n",
    "\n",
    "The standard error is the standard deviation of the population divided by the square root of the sample size.\n",
    "\n",
    "standard error = sample standard deviation / sqrt(sample size) standard error \n",
    "= 30 / sqrt(2000) standard error = 0.671\n",
    "\n",
    "To calculate the confidence intervals, we will use the formula:\n",
    "\n",
    "Confidence interval = sample mean ± (z-score * standard error)\n",
    "\n",
    "We have the sample mean and the standard error , now we will calculate the z-score.\n",
    "\n",
    "This is possible by running the command :\n",
    "\n",
    "For the left part :\n",
    "\n",
    "From scipy import stats\n",
    "\n",
    "stats.t.ppf(probability value, (df-1))\n",
    "\n",
    "For 94 % Confidence  :\n",
    "\n",
    "stats.t.ppf(0.03,1999)\n",
    "\n",
    "We get value as -1.88.\n",
    "\n",
    "Similarly for the right part :\n",
    "\n",
    "stats.t.ppf(probability value, (df-1))\n",
    "\n",
    "For 94 % Confidence  :\n",
    "\n",
    "stats.t.ppf(0.97,1999)\n",
    "\n",
    "we get value as 1.88.\n",
    "\n",
    "Now , for a 94 % confidence interval , \n",
    "\n",
    "Confidence interval = 200 ± (1.88 * 0.671)\n",
    " \n",
    " Confidence interval = (198.18, 201.82)\n",
    "\n",
    "For 98 % Confidence interval  :\n",
    "\n",
    "For  Left part :\n",
    "\n",
    "stats.t.ppf(0.01,1999)\n",
    "\n",
    "We get value as -2.3282147761069725.\n",
    "\n",
    "\n",
    "For  Right part :\n",
    "\n",
    "stats.t.ppf(0.99,1999)\n",
    "\n",
    "We get value as 2.328214776106972.\n",
    "\n",
    "Now , for a 98 % confidence interval , \n",
    "\n",
    "Confidence interval = 200 ± (2.32* 0.671)\n",
    " \n",
    " Confidence interval = (196.41, 203.59)\n",
    "\n",
    "For 96 % Confidence interval  :\n",
    "\n",
    "For  Left part :\n",
    "\n",
    "stats.t.ppf(0.02,1999)\n",
    "\n",
    "We get value as -2.055089962825778.\n",
    "\n",
    "\n",
    "For  Right part :\n",
    "\n",
    "stats.t.ppf(0.98,1999)\n",
    "\n",
    "We get value as 2.055089962825778.\n",
    "\n",
    "\n",
    "Now , for a 96 % confidence interval , \n",
    "\n",
    "Confidence interval = 200 ± (1.96 * 0.671) \n",
    "\n",
    "Confidence interval = (197.68, 202.32)\n",
    "\n",
    "Therefore, we can say with 94% confidence that the true average weight of adult males in Mexico is between 198.18 and 201.82 pounds, with 98% confidence that it is between 196.41 and 203.59 pounds, and with 96% confidence that it is between 197.68 and 202.32 pounds.\n"
   ]
  },
  {
   "cell_type": "code",
   "execution_count": 10,
   "id": "2ec2ff5b",
   "metadata": {},
   "outputs": [
    {
     "name": "stdout",
     "output_type": "stream",
     "text": [
      "Sample Mean(nu) = 200 pounds\n",
      " Standard Deviation = 30 pounds \n",
      " Sample Size(n) = 2000 \n",
      " n-1= 1999\n",
      "standard error = sample standard deviation / sqrt(sample size) \n",
      " standard error = 30 / sqrt(2000) \n",
      " standard error = 0.671\n",
      "Confidence interval = sample mean ± (z-score * standard error)\n",
      "94 % Confidence Interval :\n",
      "For the left side of the distribution: -1.8818614764780115\n",
      "For the right side of the distribution: 1.8818614764780113\n",
      "98 % Confidence Interval :\n",
      "For the left side of the distribution: -2.3282147761069725\n",
      "For the right side of the distribution: 2.328214776106972\n",
      "96 % Confidence Interval :\n",
      "For the left side of the distribution: -2.055089962825778\n",
      "For the right side of the distribution: 2.055089962825778\n",
      "\n",
      "\n",
      "95 % Confidence Interval: 201.26234981601772 198.73765018398228\n",
      "98 % Confidence Interval: 201.56166987548585 198.43833012451415\n",
      "96 % Confidence Interval: 201.3785359081286 198.6214640918714\n"
     ]
    }
   ],
   "source": [
    "#Code\n",
    "nu = 200;\n",
    "Standard_Deviation = 30;\n",
    "n = 2000;\n",
    "standard_error = Standard_Deviation / (n)**0.5 \n",
    "\n",
    "print('Sample Mean(nu) = 200 pounds\\n Standard Deviation = 30 pounds \\n Sample Size(n) = 2000 \\n n-1= 1999');\n",
    "print('standard error = sample standard deviation / sqrt(sample size) \\n standard error = 30 / sqrt(2000) \\n standard error = 0.671');\n",
    "print('Confidence interval = sample mean ± (z-score * standard error)');\n",
    "\n",
    "print('94 % Confidence Interval :')\n",
    "#For left part\n",
    "print('For the left side of the distribution:',stats.t.ppf(0.03,1999));\n",
    "#For right part\n",
    "print('For the right side of the distribution:',stats.t.ppf(0.97,1999));\n",
    "\n",
    "\n",
    "print('98 % Confidence Interval :')\n",
    "#For left part\n",
    "print('For the left side of the distribution:',stats.t.ppf(0.01,1999));\n",
    "#For right part\n",
    "print('For the right side of the distribution:',stats.t.ppf(0.99,1999));\n",
    "\n",
    "\n",
    "\n",
    "print('96 % Confidence Interval :')\n",
    "#For left part\n",
    "print('For the left side of the distribution:',stats.t.ppf(0.02,1999));\n",
    "#For right part\n",
    "print('For the right side of the distribution:',stats.t.ppf(0.98,1999));\n",
    "\n",
    "print('\\n')\n",
    "#Confidence interval = sample mean ± (z-score * standard error)\n",
    "#Calculation 95 % confidence interval\n",
    "print('95 % Confidence Interval:',nu+(1.8818*standard_error),nu-(1.8818*standard_error));\n",
    "#Calculation 95 % confidence interval\n",
    "print('98 % Confidence Interval:',nu+(2.328*standard_error),nu-(2.328*standard_error));\n",
    "#Calculation 95 % confidence interval\n",
    "print('96 % Confidence Interval:',nu+(2.055*standard_error),nu-(2.055*standard_error));\n",
    "\n"
   ]
  },
  {
   "cell_type": "code",
   "execution_count": null,
   "id": "ed45b0b5",
   "metadata": {},
   "outputs": [],
   "source": []
  },
  {
   "cell_type": "markdown",
   "id": "54cbfc45",
   "metadata": {},
   "source": [
    "#### Q 12)  Below are the scores obtained by a student in tests \n",
    "#### 34,36,36,38,38,39,39,40,40,41,41,41,41,42,42,45,49,56\n",
    "#### 1)\tFind mean, median, variance, standard deviation.\n",
    "\n",
    "#### 2)\tWhat can we say about the student marks? "
   ]
  },
  {
   "cell_type": "markdown",
   "id": "deb14dd6",
   "metadata": {},
   "source": [
    "#### Solution: "
   ]
  },
  {
   "cell_type": "code",
   "execution_count": 11,
   "id": "f0340da7",
   "metadata": {},
   "outputs": [
    {
     "name": "stdout",
     "output_type": "stream",
     "text": [
      "Mean: 41.0\n",
      "Median: 40.5\n",
      "Variance: 24.11111111111111\n",
      "SD: 4.910306620885412\n"
     ]
    }
   ],
   "source": [
    "#Code\n",
    "df3=pd.DataFrame(columns=['Scores obtained by Students']);\n",
    "df3['Scores obtained by Students']=(34,36,36,38,38,39,39,40,40,41,41,41,41,42,42,45,49,56);\n",
    "df3\n",
    "\n",
    "Mean=np.mean(df3['Scores obtained by Students']);\n",
    "print('Mean:',Mean);\n",
    "\n",
    "Median=np.median(df3['Scores obtained by Students']);\n",
    "print('Median:',Median);\n",
    "\n",
    "Variance=np.var(df3['Scores obtained by Students']);\n",
    "print('Variance:',Variance);\n",
    "\n",
    "SD=np.std(df3['Scores obtained by Students']);\n",
    "print('SD:',SD);\n",
    "\n",
    "#Inference :\n",
    "#The mean and median scores are quite close together but the mean is more than median , indicating that the scores are relatively evenly distributed and \n",
    "# the distribution is positively skewed or right skewed.\n",
    "#The standard deviation is also relatively low, which suggests that the scores are not very spread out.\n",
    "#However, there are some outliers, as evidenced by the high scores of 45, 49, and 56. \n",
    "#Overall, we can say that the student did well in most of the tests, but may need to work on improving their performance in certain areas."
   ]
  },
  {
   "cell_type": "code",
   "execution_count": null,
   "id": "b0ffd629",
   "metadata": {},
   "outputs": [],
   "source": []
  },
  {
   "cell_type": "markdown",
   "id": "231dd154",
   "metadata": {},
   "source": [
    "#### Q13) What is the nature of skewness when mean, median of data are equal?\n"
   ]
  },
  {
   "cell_type": "markdown",
   "id": "28ba9b27",
   "metadata": {},
   "source": [
    "#### Solution:"
   ]
  },
  {
   "cell_type": "markdown",
   "id": "4ac3bcc8",
   "metadata": {},
   "source": [
    "When the mean, median, and mode of a data set are equal, the distribution is said to be \"symmetric.\" \n",
    "Symmetric distributions have no skewness, which means that the tails on both sides of the distribution are equal in length and shape. \n",
    "In other words, the distribution is evenly distributed around the center point.\n",
    "If the mean and median are equal, but the distribution is not symmetric, then it is said to have \"zero skewness.\" \n",
    "Zero skewness indicates that the data are symmetrically distributed around the mean, but the distribution may not necessarily be symmetric in shape.\n",
    "Therefore, if the mean and median are equal, the data could either have zero skewness or be symmetric.\n"
   ]
  },
  {
   "cell_type": "code",
   "execution_count": null,
   "id": "2df9376d",
   "metadata": {},
   "outputs": [],
   "source": []
  },
  {
   "cell_type": "markdown",
   "id": "340192c4",
   "metadata": {},
   "source": [
    "#### Q14) What is the nature of skewness when mean > median ?"
   ]
  },
  {
   "cell_type": "markdown",
   "id": "dac9be94",
   "metadata": {},
   "source": [
    "#### Solution:"
   ]
  },
  {
   "cell_type": "markdown",
   "id": "725ee3a3",
   "metadata": {},
   "source": [
    "When the mean of a distribution is greater than its median, the distribution is said to be positively skewed or right-skewed. \n",
    "This means that the tail of the distribution extends towards the right side, \n",
    "and there are a few high values that pull the mean towards the right.\n",
    "The median, on the other hand, is less influenced by extreme values and reflects the middle value of the distribution, \n",
    "hence it is located relatively closer to the lower values in this scenario.\n",
    "A common example of a positively skewed distribution is the distribution of income, where a small number of very high earners can push the mean income up,\n",
    "while the majority of earners have lower incomes, making the median lower than the mean.\n"
   ]
  },
  {
   "cell_type": "code",
   "execution_count": null,
   "id": "238db878",
   "metadata": {},
   "outputs": [],
   "source": []
  },
  {
   "cell_type": "markdown",
   "id": "c2c7da0b",
   "metadata": {},
   "source": [
    "#### Q15) What is the nature of skewness when median > mean?"
   ]
  },
  {
   "cell_type": "markdown",
   "id": "03c78813",
   "metadata": {},
   "source": [
    "When the median is greater than the mean, the distribution is said to be negatively skewed or left-skewed. \n",
    "This means that there are a few extremely low values that are pulling the mean down below the median. \n",
    "The tail of the distribution is longer on the left side, indicating that there are more values on the left side of the distribution that are smaller than the mean.\n",
    "In other words, the data is more spread out to the left of the center.\n",
    "Negative skewness can occur in many real-world scenarios, such as income distributions where a few people earn significantly more than the average.\n",
    "Another example could be test scores where a few people get extremely low scores and pull the average down."
   ]
  },
  {
   "cell_type": "code",
   "execution_count": null,
   "id": "6bc8d35b",
   "metadata": {},
   "outputs": [],
   "source": []
  },
  {
   "cell_type": "markdown",
   "id": "57d78b44",
   "metadata": {},
   "source": [
    "#### Q16) What does positive kurtosis value indicates for a data ?"
   ]
  },
  {
   "cell_type": "markdown",
   "id": "8432afc1",
   "metadata": {},
   "source": [
    "#### Solution:"
   ]
  },
  {
   "cell_type": "markdown",
   "id": "9fbc89ce",
   "metadata": {},
   "source": [
    "A positive kurtosis value indicates that a data distribution has heavier tails and a more peaked\n",
    "central region compared to the normal distribution. This means that the data has more\n",
    "extreme values, either in the positive or negative direction,\n",
    "than would be expected for a normal distribution.In other words, a positive kurtosis value indicates \n",
    "that the distribution has more outliers or extreme values in the tails of the distribution than a\n",
    "normal distribution. This is sometimes referred to as a leptokurtic distribution.\n",
    "It is important to note that a positive kurtosis value does not necessarily indicate that the\n",
    "data is skewed or that there is any problem with the data. It simply means that the distribution\n",
    "has a different shape than a normal distribution. The interpretation of the kurtosis value\n",
    "will depend on the specific context and the nature of the data being analyzed.\n"
   ]
  },
  {
   "cell_type": "code",
   "execution_count": null,
   "id": "33a1e793",
   "metadata": {},
   "outputs": [],
   "source": []
  },
  {
   "cell_type": "markdown",
   "id": "a81c0378",
   "metadata": {},
   "source": [
    "#### Q17) What does negative kurtosis value indicates for a data?"
   ]
  },
  {
   "cell_type": "markdown",
   "id": "a58a6b81",
   "metadata": {},
   "source": [
    "#### Solution:"
   ]
  },
  {
   "cell_type": "markdown",
   "id": "58eb8656",
   "metadata": {},
   "source": [
    "Negative kurtosis (also known as platykurtic) indicates that the distribution of the data is flatter \n",
    "and more spread out than a normal distribution. In other words, the tails of the distribution are \n",
    "shorter and thinner than a normal distribution, and the bulk of the data is concentrated around the\n",
    "mean. Data with negative kurtosis will have fewer extreme values and outliers than a normal\n",
    "distribution. This can occur, for example, in a bimodal distribution where the two peaks are far \n",
    "apart, or in a distribution with heavy tails that extend far out from the mean.\n",
    "It is important to note that a negative kurtosis value does not necessarily indicate that the \n",
    "data is not normal or that it is a poor fit for a statistical analysis. It simply suggests that \n",
    "the distribution of the data is flatter and more spread out than a normal distribution. \n",
    "The interpretation of kurtosis should always be considered in conjunction with other \n",
    "descriptive statistics and graphical analyses of the data."
   ]
  },
  {
   "cell_type": "code",
   "execution_count": null,
   "id": "90610bf7",
   "metadata": {},
   "outputs": [],
   "source": []
  },
  {
   "cell_type": "markdown",
   "id": "6b9c6bbc",
   "metadata": {},
   "source": [
    "#### Q18) Answer the below questions using the below boxplot visualization.\n",
    " \n",
    "What can we say about the distribution of the data?\n",
    "\n",
    "What is nature of skewness of the data?\n",
    "\n",
    "What will be the IQR of the data (approximately)? "
   ]
  },
  {
   "cell_type": "markdown",
   "id": "1f1b5c4b",
   "metadata": {},
   "source": [
    "#### Solution:"
   ]
  },
  {
   "cell_type": "markdown",
   "id": "be01dff8",
   "metadata": {},
   "source": [
    "The inference from this boxplot is that about more than 50 % of the data points lies between the range of 10-15. The remaining data points lie between 15 and 18.\n",
    "The skewness is left skewed as the median is more than mean. Hence, the box plot is negatively skewed.\n",
    "\n",
    "\n",
    "IQR = Q3-Q1 = 18-10 =8\n",
    "So, approximately the inter quartile range is 8.\n"
   ]
  },
  {
   "cell_type": "code",
   "execution_count": null,
   "id": "4e5c2bac",
   "metadata": {},
   "outputs": [],
   "source": []
  },
  {
   "cell_type": "markdown",
   "id": "84dc2b68",
   "metadata": {},
   "source": [
    "#### Q19) Comment on the below Boxplot visualizations? \n",
    "\n",
    "Draw an Inference from the distribution of data for Boxplot 1 with respect Boxplot 2."
   ]
  },
  {
   "cell_type": "markdown",
   "id": "e0fe74c8",
   "metadata": {},
   "source": [
    "\n",
    "\n",
    "The whiskers of the boxplot 2 are longer in nature than the boxplot 1.\n",
    "The mean and median of both the boxplot seem similar and to be equal. Hence, the distribution is equal in nature.\n"
   ]
  },
  {
   "cell_type": "code",
   "execution_count": null,
   "id": "0fbb6238",
   "metadata": {},
   "outputs": [],
   "source": []
  },
  {
   "cell_type": "markdown",
   "id": "66109daa",
   "metadata": {},
   "source": [
    "#### Q 21) Check whether the data follows normal distribution\n",
    "#### a)\tCheck whether the MPG of Cars follows Normal Distribution \n",
    "####        Dataset: Cars.csv"
   ]
  },
  {
   "cell_type": "markdown",
   "id": "3fd63207",
   "metadata": {},
   "source": [
    "#### Solution: "
   ]
  },
  {
   "cell_type": "code",
   "execution_count": 14,
   "id": "55b1d1ee",
   "metadata": {},
   "outputs": [
    {
     "name": "stdout",
     "output_type": "stream",
     "text": [
      "Mean: 34.422075728024666\n",
      "variance: 82.35385964429098\n",
      "SD: 9.074902734701402\n",
      "probability of MPG  of Cars above 38 : 0.48267310892098014\n",
      "probability of MPG  of Cars below 40 : 0.5270001867509146\n",
      "probability of MPG  of Cars above 20 : 0.5695086059912433\n",
      "probability of MPG  of Cars below 50: 0.5695086059912433\n",
      "Probability between 20 and 50 MPG is: 0.005507058263834352\n",
      "Skewness of MPG: -0.17463433818755686\n",
      "Kurtosis of MPG -0.6477383960245926\n"
     ]
    },
    {
     "name": "stderr",
     "output_type": "stream",
     "text": [
      "C:\\Users\\harsh\\anaconda3\\lib\\site-packages\\seaborn\\distributions.py:2619: FutureWarning: `distplot` is a deprecated function and will be removed in a future version. Please adapt your code to use either `displot` (a figure-level function with similar flexibility) or `histplot` (an axes-level function for histograms).\n",
      "  warnings.warn(msg, FutureWarning)\n"
     ]
    },
    {
     "data": {
      "image/png": "[encoded data removed]",
      "text/plain": [
       "<Figure size 640x480 with 1 Axes>"
      ]
     },
     "metadata": {},
     "output_type": "display_data"
    }
   ],
   "source": [
    "#Code\n",
    "\n",
    "\n",
    "df4=pd.read_csv('Cars.csv');\n",
    "#Calculating probabilities\n",
    "mean=np.mean(df4['MPG']);\n",
    "variance=np.var(df4['MPG']);\n",
    "sd=np.std(df4['MPG']);\n",
    "print('Mean:',mean);\n",
    "print('variance:',variance);\n",
    "print('SD:',sd);\n",
    "\n",
    "#Probability=stats.norm.cdf(value,mean,variance)\n",
    "P1= 1- (stats.norm.cdf(38,mean,variance));\n",
    "print('probability of MPG  of Cars above 38 :',P1);\n",
    "\n",
    "#Probability=stats.norm.cdf(value,mean,variance)\n",
    "P2= stats.norm.cdf(40,mean,variance);\n",
    "print('probability of MPG  of Cars below 40 :',P2);\n",
    "\n",
    "#Probability=stats.norm.cdf(value,mean,variance)\n",
    "#Probability between 20 and 50 MPG\n",
    "#Here , we need to calculate two probabilities then subtract\n",
    "#Probability that the MPG is more than 20\n",
    "#Probability that the MPG is less than 50\n",
    "P3= 1-(stats.norm.cdf(20,mean,variance));\n",
    "print('probability of MPG  of Cars above 20 :',P3);\n",
    "P4=stats.norm.cdf(50,mean,variance);\n",
    "print('probability of MPG  of Cars below 50:',P3);\n",
    "P5=P4-P3;\n",
    "print('Probability between 20 and 50 MPG is:',P5);\n",
    "\n",
    "\n",
    "Skewness_of_MPG=stats.skew(df4['MPG']);\n",
    "print('Skewness of MPG:',Skewness_of_MPG);\n",
    "\n",
    "\n",
    "Kurtosis_of_MPG=stats.kurtosis(df4['MPG']);\n",
    "print('Kurtosis of MPG',Kurtosis_of_MPG);\n",
    "\n",
    "#Now we will plot the distribution of the MPG Column using seaborn plot\n",
    "plt.title('Distribution Plot of MPG Column')\n",
    "sns.distplot(df4['MPG']);\n",
    "\n",
    "\n",
    "#Inference\n",
    "\n",
    "#To check whether the data follows normal distribution or not \n",
    "#We will have to calculate the skewness or kurtosis. \n",
    "#The value of skewness of MPG of cars is -0.17463433818755686.\n",
    "#As the skewness we observed of the speed was -0.174 , it appears that it is more skewed towards \n",
    "#the right  and more weight there. The distribution is skewed  a little bit towards the \n",
    "#right and is positively skewed as seen in the graph. But , when observed in the graph closely \n",
    "#it is seen that the data follows normal distribution.\n",
    "\n",
    "#The value of kurtosis of MPG of cars is -0.6477383960245926. The  kurtosis is less than 3. \n",
    "#The distribution is playkurtic. The tail end of the  distribution is thinner at the end.The \n",
    "#distribution is concentrated near the mean.\n",
    "\n"
   ]
  },
  {
   "cell_type": "markdown",
   "id": "01a67086",
   "metadata": {},
   "source": [
    "#### b)\tCheck Whether the Adipose Tissue (AT) and Waist Circumference(Waist)  from wc-at \n",
    "#### data set  follows Normal Distribution \n",
    "####       Dataset: wc-at.csv"
   ]
  },
  {
   "cell_type": "markdown",
   "id": "41822f36",
   "metadata": {},
   "source": [
    "#### Solution:"
   ]
  },
  {
   "cell_type": "code",
   "execution_count": 16,
   "id": "18fc411a",
   "metadata": {},
   "outputs": [
    {
     "name": "stdout",
     "output_type": "stream",
     "text": [
      "Skewness of Waist: 0.1322041763592883\n",
      "Kurtosis of Waist: -1.1072764806858817\n",
      "Skewness of AT: 0.5767896975987847\n",
      "Kurtosis of AT: -0.3271884938021854\n"
     ]
    },
    {
     "name": "stderr",
     "output_type": "stream",
     "text": [
      "C:\\Users\\harsh\\anaconda3\\lib\\site-packages\\seaborn\\distributions.py:2619: FutureWarning: `distplot` is a deprecated function and will be removed in a future version. Please adapt your code to use either `displot` (a figure-level function with similar flexibility) or `histplot` (an axes-level function for histograms).\n",
      "  warnings.warn(msg, FutureWarning)\n",
      "C:\\Users\\harsh\\anaconda3\\lib\\site-packages\\seaborn\\distributions.py:2619: FutureWarning: `distplot` is a deprecated function and will be removed in a future version. Please adapt your code to use either `displot` (a figure-level function with similar flexibility) or `histplot` (an axes-level function for histograms).\n",
      "  warnings.warn(msg, FutureWarning)\n"
     ]
    },
    {
     "data": {
      "image/png": "[encoded data removed]",
      "text/plain": [
       "<Figure size 640x480 with 2 Axes>"
      ]
     },
     "metadata": {},
     "output_type": "display_data"
    }
   ],
   "source": [
    "#Code\n",
    "\n",
    "df=pd.read_csv('wc-at.csv');\n",
    "\n",
    "fig,ax = plt.subplots(2);\n",
    "Skewness_of_Waist=stats.skew(df['Waist']);\n",
    "print('Skewness of Waist:',Skewness_of_Waist);\n",
    "\n",
    "\n",
    "kurtosis_of_Waist=stats.kurtosis(df['Waist']);\n",
    "print('Kurtosis of Waist:',kurtosis_of_Waist);\n",
    "fig.tight_layout()\n",
    "#Now we will plot the distribution of the Waist Circumference Column using seaborn plot\n",
    "plt.title('Distribution Plot of Waist Circumference(Waist)  Column')\n",
    "sns.distplot(df['Waist'] , ax = ax[0]);\n",
    "\n",
    "Skewness_of_AT=stats.skew(df['AT']);\n",
    "print('Skewness of AT:',Skewness_of_AT);\n",
    "\n",
    "\n",
    "kurtosis_of_AT=stats.kurtosis(df['AT']);\n",
    "print('Kurtosis of AT:',kurtosis_of_AT);\n",
    "\n",
    "fig.tight_layout()\n",
    "#Now we will plot the distribution of the Adipose Tissue Column using seaborn plot\n",
    "plt.title('Distribution Plot of AT Column')\n",
    "sns.distplot(df['AT'] , ax= ax[1]);\n",
    "\n",
    "\n",
    "#Inference\n",
    "#The skewness of Waist is more than 0. It is left skewed and negatively skewed. \n",
    "#The kurtosis of Waist is less than 3.It is playkurtic, it is more concentrated in the mean and thinner \n",
    "#towards the line of distribution.\n",
    "\n",
    "#The skewness of AT is more than 0. It is left skewed and negatively skewed. \n",
    "#The kurtosis of AT is less than 3.It is playkurtic, it is more concentrated in the mean and thinner \n",
    "#towards the line of distribution."
   ]
  },
  {
   "cell_type": "code",
   "execution_count": null,
   "id": "11b36d35",
   "metadata": {},
   "outputs": [],
   "source": []
  },
  {
   "cell_type": "markdown",
   "id": "bd2de9aa",
   "metadata": {},
   "source": [
    "#### Q 22) Calculate the Z scores of  90% confidence interval,94% confidence interval, 60% confidence  interval."
   ]
  },
  {
   "cell_type": "markdown",
   "id": "5fc67b29",
   "metadata": {},
   "source": [
    "#### Solution:"
   ]
  },
  {
   "cell_type": "code",
   "execution_count": 17,
   "id": "9a22a82c",
   "metadata": {},
   "outputs": [
    {
     "name": "stdout",
     "output_type": "stream",
     "text": [
      "90 % confidence Interval: -1.6448536269514729 , 1.6448536269514722\n",
      "94 % confidence Interval: -1.880793608151251 , 1.8807936081512509\n",
      "60 % confidence Interval: -0.8416212335729142 , 0.8416212335729143\n"
     ]
    }
   ],
   "source": [
    "#For the Left Part of the distribution\n",
    "a=stats.norm.ppf(0.05)\n",
    "\n",
    "#For the Right Part of the distribution\n",
    "b=stats.norm.ppf(0.95)\n",
    "\n",
    "print('90 % confidence Interval:',a,',',b)\n",
    "\n",
    "\n",
    "#For the Left Part of the distribution\n",
    "c=stats.norm.ppf(0.03)\n",
    "\n",
    "#For the Right Part of the distribution\n",
    "d=stats.norm.ppf(0.97)\n",
    "\n",
    "print('94 % confidence Interval:',c,',',d)\n",
    "\n",
    "\n",
    "#For the Left Part of the distribution\n",
    "e=stats.norm.ppf(0.2)\n",
    "\n",
    "#For the Right Part of the distribution\n",
    "f=stats.norm.ppf(0.8)\n",
    "\n",
    "print('60 % confidence Interval:',e,',',f)"
   ]
  },
  {
   "cell_type": "code",
   "execution_count": null,
   "id": "a5ec7760",
   "metadata": {},
   "outputs": [],
   "source": []
  },
  {
   "cell_type": "markdown",
   "id": "10481112",
   "metadata": {},
   "source": [
    "# Q 23) Calculate the t scores of 95% confidence interval, 96% confidence interval, 99% \n",
    "#### confidence interval for sample size of 25\n"
   ]
  },
  {
   "cell_type": "markdown",
   "id": "30a2f151",
   "metadata": {},
   "source": [
    "#### Solution:"
   ]
  },
  {
   "cell_type": "code",
   "execution_count": 14,
   "id": "92224a59",
   "metadata": {},
   "outputs": [
    {
     "name": "stdout",
     "output_type": "stream",
     "text": [
      "95 % confidence Interval: -2.063898561628021 , 25.959963984540053\n",
      "96 % confidence Interval: -2.171544676008068 , 2.1715446760080677\n",
      "99 % confidence Interval: -2.796939504772805 , 2.796939504772804\n"
     ]
    }
   ],
   "source": [
    "\n",
    "\n",
    "\n",
    "#For the Left Part of the distribution\n",
    "a=stats.t.ppf(0.025,24)\n",
    "\n",
    "#For the Right Part of the distribution\n",
    "b=stats.norm.ppf(0.975,24)\n",
    "\n",
    "print('95 % confidence Interval:',a,',',b)\n",
    "\n",
    "\n",
    "#For the Left Part of the distribution\n",
    "c=stats.t.ppf(0.02,24)\n",
    "\n",
    "#For the Right Part of the distribution\n",
    "d=stats.t.ppf(0.98,24)\n",
    "\n",
    "print('96 % confidence Interval:',c,',',d)\n",
    "\n",
    "\n",
    "#For the Left Part of the distribution\n",
    "e=stats.t.ppf(0.005,24)\n",
    "\n",
    "#For the Right Part of the distribution\n",
    "f=stats.t.ppf(0.995,24)\n",
    "\n",
    "print('99 % confidence Interval:',e,',',f)"
   ]
  },
  {
   "cell_type": "code",
   "execution_count": null,
   "id": "abeb5019",
   "metadata": {},
   "outputs": [],
   "source": []
  },
  {
   "cell_type": "markdown",
   "id": "2d82f8d3",
   "metadata": {},
   "source": [
    "#### Q 24)   A Government  company claims that an average light bulb lasts 270 days. A researcher randomly selects 18 bulbs for testing. The sampled bulbs last an average of 260 days, with standard deviation of 90 days. If the CEO's claim were true, what is the probability that 18 randomly selected bulbs would have an average life of no more than 260 days"
   ]
  },
  {
   "cell_type": "markdown",
   "id": "993f0b56",
   "metadata": {},
   "source": [
    "#### Solution:"
   ]
  },
  {
   "cell_type": "markdown",
   "id": "4293f2a1",
   "metadata": {},
   "source": [
    "Population mean(u) = 270 days\n",
    "\n",
    "Sample Size (n) =18 Bulbs\n",
    "\n",
    "Sample mean (Xbar) = 260 days\n",
    "\n",
    "\n",
    "standard deviation (SD) = 90 Days\n",
    "\n",
    "\n",
    "print('Probability that an average life of no more than 260 days')\n",
    "\n",
    "\n",
    "Using Hypothesis Testing,\n",
    "\n",
    "Using one-sample t-test.\n",
    "\n",
    "In this case, the null hypothesis is that mean lifespan of the  light bulb is more 270 days.\n",
    "The alternate hypothesis is that the meean lifespan of the light bulb is  less than 270 days.\n",
    "\n",
    "Calculating test statistic for the one-sample-t-test :\n",
    "\n",
    "    t=(Xbar-u)/(SD/sqrt(n))\n",
    "    \n",
    "    Where Xbar is the sample mean, \n",
    "    \n",
    "    u is the population mean (270 days), \n",
    "    \n",
    "    SD is the sample standard deviation (90 days), and n is the sample size (18 bulbs)\n",
    "    \n",
    "    After evaluating values,\n",
    "    \n",
    "    t=(260-270)/(90/sqrt(18))\n",
    "    \n",
    "    t=-0.4714045207910317\n",
    "    \n",
    "    Now determining the rejection criteria ,\n",
    "    \n",
    "    For 95 % Confidence interval,\n",
    "    \n",
    "    For the left part :\n",
    "    \n",
    "        stats.t.ppf(0.025,17) = -1.96\n",
    "        \n",
    "    For the right part :\n",
    "    \n",
    "        stats.t.ppf(0.975,17) = 1.96\n",
    "        \n",
    "    As, the t statistic does not belong to the critical region (C.R.) .\n",
    "    \n",
    "    We can accept the null hypothesis ( H0).\n",
    "    \n",
    "    \n",
    "    This means that the mean lifespan of the light bulb is more than 270 days.\n",
    "    \n",
    "#Alternate Method\n",
    "\n",
    "#Using the p-value method\n",
    "\n",
    " P(t<= -0.47) + P(t=>0.47)\n",
    " \n",
    "For left part:\n",
    "\n",
    "    stats.t.cdf(-0.47,17)=0.32167253567098364\n",
    "    \n",
    "For Right part:\n",
    "\n",
    "    1-stats.t.cdf(0.47,17)=0.32167253567098364\n",
    "    \n",
    "    \n",
    "    The negative t-statistic indicates that the sample mean is lower than the population mean.\n",
    "    \n",
    "    The p-value of 0.32167253567098364 is greater than the commonly used significance level of 0.05,which means that we cannot reject the null hypothesis. \n",
    "    \n",
    "    In other words, there is not enough evidence to conclude that the mean lifespan of the light bulb is less than 260 days. The probability that 18 randomly selected bulbs would have an average life of no more than 260 days is 0.32167253567098364.\n",
    "\n",
    "    "
   ]
  },
  {
   "cell_type": "code",
   "execution_count": 18,
   "id": "378b6779",
   "metadata": {},
   "outputs": [
    {
     "name": "stdout",
     "output_type": "stream",
     "text": [
      "t-statistic: -0.4714045207910317\n",
      "p-value: 0.32167253567098364\n",
      "For 95 % confidence interval : -1.96 to +1.96 \n",
      "After observing the t-statistic, the value of t-statistic lies in the acceptable region and not the critical region\n",
      "Considering the level of significance as 0.05. The p-value is obtained is more than that of the level of significance \n",
      "Here, we accept H0.\n"
     ]
    }
   ],
   "source": [
    "#Code\n",
    "# sample size\n",
    "n = 18\n",
    "\n",
    "# sample mean and standard deviation\n",
    "xbar = 260\n",
    "s = 90\n",
    "\n",
    "# null hypothesis: population mean is 270\n",
    "u = 270\n",
    "\n",
    "# calculate the t-statistic\n",
    "t_stat = (xbar - u) / (s / (n ** 0.5))\n",
    "\n",
    "# degrees of freedom = Sample Size -1\n",
    "df = n - 1\n",
    "\n",
    "# calculate the p-value for a one-tailed test\n",
    "p_value = stats.t.cdf(t_stat, df)\n",
    "\n",
    "print(\"t-statistic:\",format(t_stat))\n",
    "print(\"p-value:\",format(p_value))\n",
    "\n",
    "print('For 95 % confidence interval : -1.96 to +1.96 ')\n",
    "print('After observing the t-statistic, the value of t-statistic lies in the acceptable region and not the critical region')\n",
    "\n",
    "print('Considering the level of significance as 0.05. The p-value is obtained is more than that of the level of significance ')\n",
    "print('Here, we accept H0.')"
   ]
  },
  {
   "cell_type": "code",
   "execution_count": null,
   "id": "0a8482b6",
   "metadata": {},
   "outputs": [],
   "source": []
  },
  {
   "cell_type": "markdown",
   "id": "de3ca8bb",
   "metadata": {},
   "source": [
    "#### Plotting Confidence Interval :"
   ]
  },
  {
   "cell_type": "code",
   "execution_count": 48,
   "id": "3daf02c3",
   "metadata": {},
   "outputs": [
    {
     "data": {
      "text/plain": [
       "Text(1.96, 0, '1.96')"
      ]
     },
     "execution_count": 48,
     "metadata": {},
     "output_type": "execute_result"
    },
    {
     "data": {
      "image/png": "[encoded data removed]",
      "text/plain": [
       "<Figure size 640x480 with 1 Axes>"
      ]
     },
     "metadata": {},
     "output_type": "display_data"
    }
   ],
   "source": [
    "import numpy as np\n",
    "from scipy import stats\n",
    "import matplotlib.pyplot as plt\n",
    "#The arange() function is used to get evenly spaced values within a given interval\n",
    "x_axis = np.arange(-10, 10, 0.001)\n",
    "avg = 0\n",
    "std = 1\n",
    "#Plotting the probability distribution function \n",
    "pdf = stats.norm.pdf(x_axis, avg, std)\n",
    "plt.title('95 % Confidence Interval');\n",
    "plt.plot(x_axis, pdf)\n",
    "std_lim = 1.96 # 95% CI\n",
    "low = avg-std_lim*std\n",
    "high = avg+std_lim*std\n",
    "#Filling between to show how the 95 % Confidence Interval has been calculated\n",
    "#matplotlib.pyplot.fill_between(x, y1, y2=0, where=None, interpolate=False, step=None, *, data=None, **kwargs)\n",
    "#x:array (length N) :The x coordinates of the nodes defining the curves.\n",
    "#y1: array (length N) or scalar:The y coordinates of the nodes defining the first curve.\n",
    "#y2: array (length N) or scalar, default: 0:The y coordinates of the nodes defining the second curve.\n",
    "#matplotlib.pyplot.text(x, y, s, fontdict=None, **kwargs)\n",
    "#Adding text to a plot\n",
    "plt.fill_between(x_axis, pdf, where=(low < x_axis) & (x_axis < high))\n",
    "plt.text(low, 0, low, ha='center')\n",
    "plt.text(high, 0, high, ha='center')"
   ]
  },
  {
   "cell_type": "code",
   "execution_count": 50,
   "id": "6b0bddab",
   "metadata": {},
   "outputs": [
    {
     "data": {
      "text/plain": [
       "Text(1.645, 0, '1.645')"
      ]
     },
     "execution_count": 50,
     "metadata": {},
     "output_type": "execute_result"
    },
    {
     "data": {
      "image/png": "[encoded data removed]",
      "text/plain": [
       "<Figure size 640x480 with 1 Axes>"
      ]
     },
     "metadata": {},
     "output_type": "display_data"
    }
   ],
   "source": [
    "import numpy as np\n",
    "from scipy import stats\n",
    "import matplotlib.pyplot as plt\n",
    "#The arange() function is used to get evenly spaced values within a given interval\n",
    "x_axis = np.arange(-10, 10, 0.001)\n",
    "avg = 0\n",
    "std = 1\n",
    "#Plotting the probability distribution function \n",
    "pdf = stats.norm.pdf(x_axis, avg, std)\n",
    "plt.title('90 % Confidence Interval');\n",
    "plt.plot(x_axis, pdf)\n",
    "std_lim = 1.645 # 90% CI\n",
    "low = avg-std_lim*std\n",
    "high = avg+std_lim*std\n",
    "#Filling between to show how the 90 % Confidence Interval has been calculated\n",
    "#matplotlib.pyplot.fill_between(x, y1, y2=0, where=None, interpolate=False, step=None, *, data=None, **kwargs)\n",
    "#x:array (length N) :The x coordinates of the nodes defining the curves.\n",
    "#y1: array (length N) or scalar:The y coordinates of the nodes defining the first curve.\n",
    "#y2: array (length N) or scalar, default: 0:The y coordinates of the nodes defining the second curve.\n",
    "#matplotlib.pyplot.text(x, y, s, fontdict=None, **kwargs)\n",
    "#Adding text to a plot\n",
    "plt.fill_between(x_axis, pdf, where=(low < x_axis) & (x_axis < high))\n",
    "plt.text(low, 0, low, ha='center')\n",
    "plt.text(high, 0, high, ha='center')"
   ]
  },
  {
   "cell_type": "code",
   "execution_count": 52,
   "id": "2d42eb41",
   "metadata": {},
   "outputs": [
    {
     "data": {
      "text/plain": [
       "Text(2.326, 0, '2.326')"
      ]
     },
     "execution_count": 52,
     "metadata": {},
     "output_type": "execute_result"
    },
    {
     "data": {
      "image/png": "[encoded data removed]",
      "text/plain": [
       "<Figure size 640x480 with 1 Axes>"
      ]
     },
     "metadata": {},
     "output_type": "display_data"
    }
   ],
   "source": [
    "import numpy as np\n",
    "from scipy import stats\n",
    "import matplotlib.pyplot as plt\n",
    "#The arange() function is used to get evenly spaced values within a given interval\n",
    "x_axis = np.arange(-10, 10, 0.001)\n",
    "avg = 0\n",
    "std = 1\n",
    "#Plotting the probability distribution function \n",
    "pdf = stats.norm.pdf(x_axis, avg, std)\n",
    "plt.title('98 % Confidence Interval');\n",
    "plt.plot(x_axis, pdf)\n",
    "std_lim = 2.326 # 98% CI\n",
    "low = avg-std_lim*std\n",
    "high = avg+std_lim*std\n",
    "#Filling between to show how the 98 % Confidence Interval has been calculated\n",
    "#matplotlib.pyplot.fill_between(x, y1, y2=0, where=None, interpolate=False, step=None, *, data=None, **kwargs)\n",
    "#x:array (length N) :The x coordinates of the nodes defining the curves.\n",
    "#y1: array (length N) or scalar:The y coordinates of the nodes defining the first curve.\n",
    "#y2: array (length N) or scalar, default: 0:The y coordinates of the nodes defining the second curve.\n",
    "#matplotlib.pyplot.text(x, y, s, fontdict=None, **kwargs)\n",
    "#Adding text to a plot\n",
    "plt.fill_between(x_axis, pdf, where=(low < x_axis) & (x_axis < high))\n",
    "plt.text(low, 0, low, ha='center')\n",
    "plt.text(high, 0, high, ha='center')"
   ]
  },
  {
   "cell_type": "code",
   "execution_count": 53,
   "id": "f19eee0f",
   "metadata": {},
   "outputs": [
    {
     "data": {
      "text/plain": [
       "Text(2.05, 0, '2.05')"
      ]
     },
     "execution_count": 53,
     "metadata": {},
     "output_type": "execute_result"
    },
    {
     "data": {
      "image/png": "[encoded data removed]",
      "text/plain": [
       "<Figure size 640x480 with 1 Axes>"
      ]
     },
     "metadata": {},
     "output_type": "display_data"
    }
   ],
   "source": [
    "import numpy as np\n",
    "from scipy import stats\n",
    "import matplotlib.pyplot as plt\n",
    "#The arange() function is used to get evenly spaced values within a given interval\n",
    "x_axis = np.arange(-10, 10, 0.001)\n",
    "avg = 0\n",
    "std = 1\n",
    "#Plotting the probability distribution function \n",
    "pdf = stats.norm.pdf(x_axis, avg, std)\n",
    "plt.title('90 % Confidence Interval');\n",
    "plt.plot(x_axis, pdf)\n",
    "std_lim = 2.05 # 96% CI\n",
    "low = avg-std_lim*std\n",
    "high = avg+std_lim*std\n",
    "#Filling between to show how the 96 % Confidence Interval has been calculated\n",
    "#matplotlib.pyplot.fill_between(x, y1, y2=0, where=None, interpolate=False, step=None, *, data=None, **kwargs)\n",
    "#x:array (length N) :The x coordinates of the nodes defining the curves.\n",
    "#y1: array (length N) or scalar:The y coordinates of the nodes defining the first curve.\n",
    "#y2: array (length N) or scalar, default: 0:The y coordinates of the nodes defining the second curve.\n",
    "#matplotlib.pyplot.text(x, y, s, fontdict=None, **kwargs)\n",
    "#Adding text to a plot\n",
    "plt.fill_between(x_axis, pdf, where=(low < x_axis) & (x_axis < high))\n",
    "plt.text(low, 0, low, ha='center')\n",
    "plt.text(high, 0, high, ha='center')"
   ]
  }
 ],
 "metadata": {
  "kernelspec": {
   "display_name": "Python 3 (ipykernel)",
   "language": "python",
   "name": "python3"
  },
  "language_info": {
   "codemirror_mode": {
    "name": "ipython",
    "version": 3
   },
   "file_extension": ".py",
   "mimetype": "text/x-python",
   "name": "python",
   "nbconvert_exporter": "python",
   "pygments_lexer": "ipython3",
   "version": "3.9.13"
  }
 },
 "nbformat": 4,
 "nbformat_minor": 5
}
