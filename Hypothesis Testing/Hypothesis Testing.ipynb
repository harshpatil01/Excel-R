{
 "cells": [
  {
   "cell_type": "markdown",
   "id": "eda3d69e",
   "metadata": {},
   "source": [
    "#### Name : Harsh Patil   "
   ]
  },
  {
   "cell_type": "markdown",
   "id": "0ca6e705",
   "metadata": {},
   "source": [
    "#### Assignment : Hypothesis Testing"
   ]
  },
  {
   "cell_type": "markdown",
   "id": "c2a8cee4",
   "metadata": {},
   "source": [
    "### Q1. A F&B manager wants to determine whether there is any significant difference in the diameter of the cutlet between two units. A randomly selected sample of cutletswas collected from both units and measured? Analyze the data and draw inferences at 5% significance level. Please state the assumptions and tests that you carried out to check validity of the assumptions.(Minitab File : Cutlets.mtw)"
   ]
  },
  {
   "cell_type": "markdown",
   "id": "b2e05484",
   "metadata": {},
   "source": [
    "#### Solution:\n"
   ]
  },
  {
   "cell_type": "markdown",
   "id": "7d8a8d48",
   "metadata": {},
   "source": [
    "To analyze whether there is a significant difference in the diameter of the cutlet between two units, we can perform a two-sample t-test. This is because there are two groups to compare and not more than two groups. \n",
    "\n",
    "To check the normality assumption, we can create histograms and normal probability plots for each unit."
   ]
  },
  {
   "cell_type": "markdown",
   "id": "d0a3b602",
   "metadata": {},
   "source": [
    "#### Step 1: Set up the null and alternative hypothesis"
   ]
  },
  {
   "cell_type": "markdown",
   "id": "eab96236",
   "metadata": {},
   "source": [
    "Using the method of null hypothesis and alternative hypothesis,\n",
    "\n",
    "Null Hypothesis is when μ1=μ2=μ3=μ4\n",
    "\n",
    "Null Hypothesis is that there is no significant difference between the diameter of cutlets between two units.\n",
    "\n",
    "Alternative Hypothesis is when μ1≠μ2≠μ3≠μ4\n",
    "\n",
    "Alternative Hypothesis is that there is a significant difference between the diameter of cutlets between two units.\n",
    "\n",
    "This a two-tailed hypothesis test.\n",
    "Decieding a cut off value \n",
    "Level of Significance = 5 % \n",
    "i.e alpha =0.05\n",
    "\n",
    "\n",
    "As the test is a two-tailed test, \n",
    "alpha/2=0.025"
   ]
  },
  {
   "cell_type": "code",
   "execution_count": 5,
   "id": "cd1d1c3a",
   "metadata": {},
   "outputs": [
    {
     "data": {
      "text/plain": [
       "Unit A    0\n",
       "Unit B    0\n",
       "dtype: int64"
      ]
     },
     "execution_count": 5,
     "metadata": {},
     "output_type": "execute_result"
    }
   ],
   "source": [
    "#Checking if there are any null values\n",
    "cutlets.isnull().sum()"
   ]
  },
  {
   "cell_type": "code",
   "execution_count": 7,
   "id": "b7c3ebd3",
   "metadata": {},
   "outputs": [
    {
     "data": {
      "text/html": [
       "<div>\n",
       "<style scoped>\n",
       "    .dataframe tbody tr th:only-of-type {\n",
       "        vertical-align: middle;\n",
       "    }\n",
       "\n",
       "    .dataframe tbody tr th {\n",
       "        vertical-align: top;\n",
       "    }\n",
       "\n",
       "    .dataframe thead th {\n",
       "        text-align: right;\n",
       "    }\n",
       "</style>\n",
       "<table border=\"1\" class=\"dataframe\">\n",
       "  <thead>\n",
       "    <tr style=\"text-align: right;\">\n",
       "      <th></th>\n",
       "      <th>Unit A</th>\n",
       "      <th>Unit B</th>\n",
       "    </tr>\n",
       "  </thead>\n",
       "  <tbody>\n",
       "    <tr>\n",
       "      <th>count</th>\n",
       "      <td>35.000000</td>\n",
       "      <td>35.000000</td>\n",
       "    </tr>\n",
       "    <tr>\n",
       "      <th>mean</th>\n",
       "      <td>7.019091</td>\n",
       "      <td>6.964297</td>\n",
       "    </tr>\n",
       "    <tr>\n",
       "      <th>std</th>\n",
       "      <td>0.288408</td>\n",
       "      <td>0.343401</td>\n",
       "    </tr>\n",
       "    <tr>\n",
       "      <th>min</th>\n",
       "      <td>6.437600</td>\n",
       "      <td>6.038000</td>\n",
       "    </tr>\n",
       "    <tr>\n",
       "      <th>25%</th>\n",
       "      <td>6.831500</td>\n",
       "      <td>6.753600</td>\n",
       "    </tr>\n",
       "    <tr>\n",
       "      <th>50%</th>\n",
       "      <td>6.943800</td>\n",
       "      <td>6.939900</td>\n",
       "    </tr>\n",
       "    <tr>\n",
       "      <th>75%</th>\n",
       "      <td>7.280550</td>\n",
       "      <td>7.195000</td>\n",
       "    </tr>\n",
       "    <tr>\n",
       "      <th>max</th>\n",
       "      <td>7.516900</td>\n",
       "      <td>7.545900</td>\n",
       "    </tr>\n",
       "  </tbody>\n",
       "</table>\n",
       "</div>"
      ],
      "text/plain": [
       "          Unit A     Unit B\n",
       "count  35.000000  35.000000\n",
       "mean    7.019091   6.964297\n",
       "std     0.288408   0.343401\n",
       "min     6.437600   6.038000\n",
       "25%     6.831500   6.753600\n",
       "50%     6.943800   6.939900\n",
       "75%     7.280550   7.195000\n",
       "max     7.516900   7.545900"
      ]
     },
     "execution_count": 7,
     "metadata": {},
     "output_type": "execute_result"
    }
   ],
   "source": [
    "#This command will show calculate the parameters of statistics related to the dataset cutlets\n",
    "cutlets.describe()"
   ]
  },
  {
   "cell_type": "code",
   "execution_count": 9,
   "id": "4bc214d8",
   "metadata": {
    "scrolled": true
   },
   "outputs": [
    {
     "name": "stdout",
     "output_type": "stream",
     "text": [
      "<class 'pandas.core.frame.DataFrame'>\n",
      "RangeIndex: 35 entries, 0 to 34\n",
      "Data columns (total 2 columns):\n",
      " #   Column  Non-Null Count  Dtype  \n",
      "---  ------  --------------  -----  \n",
      " 0   Unit A  35 non-null     float64\n",
      " 1   Unit B  35 non-null     float64\n",
      "dtypes: float64(2)\n",
      "memory usage: 688.0 bytes\n"
     ]
    }
   ],
   "source": [
    "#Showing the number of columns , types of data types and the null values present \n",
    "cutlets.info()"
   ]
  },
  {
   "cell_type": "markdown",
   "id": "831cf2ff",
   "metadata": {},
   "source": [
    "#### Plotting Histograms"
   ]
  },
  {
   "cell_type": "code",
   "execution_count": 94,
   "id": "f1bf8efb",
   "metadata": {},
   "outputs": [
    {
     "data": {
      "image/png": "[encoded data removed]",
      "text/plain": [
       "<Figure size 400x200 with 2 Axes>"
      ]
     },
     "metadata": {},
     "output_type": "display_data"
    }
   ],
   "source": [
    "#Creating subplots within a single plot\n",
    "#fig,axs=plt.subplots(rows,columns,figsize=(width,height)) \n",
    "#Width and height are in inches\n",
    "#This returns a figure object (fig) and an array of axes objects (axs)\n",
    "fig, axs = plt.subplots(1, 2, figsize=(4,2))\n",
    "#On 1,1 position, we plot histogram of Unit A\n",
    "axs[0].hist(cutlets['Unit A'], bins=20)\n",
    "#Setting the title of the histogram of Unit A\n",
    "axs[0].set_title('Unit A')\n",
    "#On 1,2 position, we plot histogram of Unit B\n",
    "axs[1].hist(cutlets['Unit B'], bins=20)\n",
    "#Setting the title of the histogram of Unit A\n",
    "axs[1].set_title('Unit B')\n",
    "plt.show()"
   ]
  },
  {
   "cell_type": "markdown",
   "id": "ddd9c92a",
   "metadata": {},
   "source": [
    "#### Plotting Boxplot"
   ]
  },
  {
   "cell_type": "code",
   "execution_count": 95,
   "id": "ecef837e",
   "metadata": {},
   "outputs": [
    {
     "data": {
      "image/png": "[encoded data removed]",
      "text/plain": [
       "<Figure size 400x200 with 2 Axes>"
      ]
     },
     "metadata": {},
     "output_type": "display_data"
    }
   ],
   "source": [
    "#Creating subplots within a single plot\n",
    "#fig,axs=plt.subplots(rows,columns,figsize=(width,height)) \n",
    "#Width and height are in inches\n",
    "#This returns a figure object (fig) and an array of axes objects (axs)\n",
    "fig, axs = plt.subplots(1, 2, figsize=(4,2))\n",
    "#On 1,1 position, we plot boxplot of Unit A\n",
    "axs[0].boxplot(cutlets['Unit A'])\n",
    "#Setting the title of the boxplot of Unit A\n",
    "axs[0].set_title('Unit A')\n",
    "#On 1,2 position, we plot boxplot of Unit B\n",
    "axs[1].boxplot(cutlets['Unit B'])\n",
    "#Setting the title of the  boxplot of Unit B\n",
    "axs[1].set_title('Unit B')\n",
    "plt.show()"
   ]
  },
  {
   "cell_type": "markdown",
   "id": "f41dd160",
   "metadata": {},
   "source": [
    "#### Plotting Distribution Plot"
   ]
  },
  {
   "cell_type": "code",
   "execution_count": 96,
   "id": "85ee3aca",
   "metadata": {},
   "outputs": [
    {
     "name": "stderr",
     "output_type": "stream",
     "text": [
      "C:\\Users\\harsh\\anaconda3\\lib\\site-packages\\seaborn\\distributions.py:2619: FutureWarning: `distplot` is a deprecated function and will be removed in a future version. Please adapt your code to use either `displot` (a figure-level function with similar flexibility) or `histplot` (an axes-level function for histograms).\n",
      "  warnings.warn(msg, FutureWarning)\n",
      "C:\\Users\\harsh\\anaconda3\\lib\\site-packages\\seaborn\\distributions.py:2619: FutureWarning: `distplot` is a deprecated function and will be removed in a future version. Please adapt your code to use either `displot` (a figure-level function with similar flexibility) or `histplot` (an axes-level function for histograms).\n",
      "  warnings.warn(msg, FutureWarning)\n"
     ]
    },
    {
     "data": {
      "text/plain": [
       "<matplotlib.legend.Legend at 0x1ca503b9070>"
      ]
     },
     "execution_count": 96,
     "metadata": {},
     "output_type": "execute_result"
    },
    {
     "data": {
      "image/png": "[encoded data removed]",
      "text/plain": [
       "<Figure size 400x200 with 1 Axes>"
      ]
     },
     "metadata": {},
     "output_type": "display_data"
    }
   ],
   "source": [
    "#figure_name = plt.figure(figsize=(width, height))\n",
    "plt.figure(figsize = (4,2))\n",
    "#Labels indicating graph\n",
    "labels = ['Unit A', 'Unit B']\n",
    "#Plotting distribution plot with help of sns\n",
    "#Plotting density plot by keeping kde true\n",
    "sns.distplot(cutlets['Unit A'], kde = True)\n",
    "#Plotting density plot by keeping hist true\n",
    "sns.distplot(cutlets['Unit B'],hist = True)\n",
    "plt.legend(labels)"
   ]
  },
  {
   "cell_type": "markdown",
   "id": "384ac88e",
   "metadata": {},
   "source": [
    "#### Step 2:  Performing the Normality test and Homogeneity of variance assumption check"
   ]
  },
  {
   "cell_type": "code",
   "execution_count": 1,
   "id": "b1820104",
   "metadata": {},
   "outputs": [
    {
     "data": {
      "image/png": "[encoded data removed]",
      "text/plain": [
       "<Figure size 1900x800 with 2 Axes>"
      ]
     },
     "metadata": {},
     "output_type": "display_data"
    }
   ],
   "source": [
    "import scipy.stats as stats\n",
    "import numpy as np\n",
    "import statsmodels.api as sm\n",
    "import pandas as pd\n",
    "import matplotlib.pyplot as plt\n",
    "import seaborn as sns\n",
    "cutlets = pd.read_csv('Cutlets.csv')\n",
    "#Displaying first 10 columns of the dataset cutlets\n",
    "cutlets.head(10)\n",
    "#Displaying last 10 columns of the dataset cutlets\n",
    "cutlets.tail(10)\n",
    "figure, axes = plt.subplots(1, 2, figsize=(19,8))\n",
    "plt.title('Unit A')\n",
    "sm.qqplot(cutlets[\"Unit A\"], line='q', ax = axes[0])\n",
    "plt.title('Unit A')\n",
    "sm.qqplot(cutlets[\"Unit B\"], line='q', ax = axes[1]) \n",
    "plt.tight_layout()\n",
    "plt.show()"
   ]
  },
  {
   "cell_type": "markdown",
   "id": "515c0161",
   "metadata": {},
   "source": [
    "The Q-Q plot shows a largely straight-line pattern if it is from a normal distribution. From the above figure, we may assume that the data for each group falls roughly on a straight line."
   ]
  },
  {
   "cell_type": "code",
   "execution_count": 6,
   "id": "6b649721",
   "metadata": {},
   "outputs": [
    {
     "name": "stdout",
     "output_type": "stream",
     "text": [
      "Standard Deviation of Unit A: 0.2884084841815496\n",
      "Standard Deviation of Unit B: 0.343400647063108\n",
      "Ratio: 1.1906745671425587\n"
     ]
    }
   ],
   "source": [
    "std1=cutlets['Unit A'].std()\n",
    "print('Standard Deviation of Unit A:',std1)\n",
    "std2=cutlets['Unit B'].std()\n",
    "print('Standard Deviation of Unit B:',std2)\n",
    "#From above we can see that the lowest std is  0.2884084841815496 and the highest std is 0.343400647063108\n",
    "#Hence removing the ratio of both the quantities\n",
    "Ratio=std2/std1\n",
    "R=float(Ratio)\n",
    "print('Ratio:',R)\n"
   ]
  },
  {
   "cell_type": "markdown",
   "id": "51ce197f",
   "metadata": {},
   "source": [
    "From above we can see that the lowest std is  0.2884084841815496 and the highest std is 0.343400647063108.\n",
    "\n",
    "The ratio of the highest value of standard deviation to the lowest value of standard deviation.\n",
    "Hence removing the ratio of both the quantities\n",
    "As the ratio calculated is less than the threshold of 2, we conclude that the assumptions are fullfilled."
   ]
  },
  {
   "cell_type": "markdown",
   "id": "af6a0c9a",
   "metadata": {},
   "source": [
    "#### Step 3: Calculating the t statistic and p-value of the dataset"
   ]
  },
  {
   "cell_type": "code",
   "execution_count": 33,
   "id": "2f6d0390",
   "metadata": {},
   "outputs": [
    {
     "name": "stdout",
     "output_type": "stream",
     "text": [
      "The value of t-statistic is: 0.7228688704678063\n",
      "The value of p is: 0.4722394724599501\n",
      "There is no significant difference in the diameter of the cutlet between the two units.\n"
     ]
    }
   ],
   "source": [
    "#Level of Significance\n",
    "alpha=0.05\n",
    "t_statistic, p_value = stats.ttest_ind(cutlets['Unit A'],cutlets['Unit B'], alternative='two-sided')\n",
    "print('The value of t-statistic is:', t_statistic)\n",
    "print('The value of p is:', p_value)\n",
    "\n",
    "if p_value < alpha:\n",
    "    print('There is no significant difference in the diameter of the cutlet between the two units.')\n",
    "else:\n",
    "    print('There is a significant difference in the diameter of the cutlet between the two units.')"
   ]
  },
  {
   "cell_type": "markdown",
   "id": "cba8760d",
   "metadata": {},
   "source": [
    "#### Step 4:  Conclusion"
   ]
  },
  {
   "cell_type": "markdown",
   "id": "6b09908b",
   "metadata": {},
   "source": [
    "Ans: If the p-value is less than the chosen significance level (5% in this case), we reject the null hypothesis(H0) and conclude that there is a significant difference in the diameter of the cutlet between the two units. Otherwise, we fail to reject the null hypothesis(H0) and conclude that there is no significant difference in the diameter of the cutlet between the two units.\n",
    "But, in the above case the value of p is far greater than alpha which is the level of significance. Hence, we accept the alternative hypothesis(H1).\n",
    "We conclude that there is a significant difference in the diameter of the cutlet between the two units."
   ]
  },
  {
   "cell_type": "code",
   "execution_count": null,
   "id": "76a20de3",
   "metadata": {},
   "outputs": [],
   "source": []
  },
  {
   "cell_type": "markdown",
   "id": "6163b9e6",
   "metadata": {},
   "source": [
    "### Q.2 A hospital wants to determine whether there is any difference in the average Turn Around Time (TAT) of reports of the laboratories on their preferred list. They collected a random sample and recorded TAT for reports of 4 laboratories. TAT is defined as sample collected to report dispatch.Analyze the data and determine whether there is any difference in average TAT among the different laboratories at 5% significance level.(Minitab File: LabTAT.csv)\n",
    "\n"
   ]
  },
  {
   "cell_type": "markdown",
   "id": "9315b4fe",
   "metadata": {},
   "source": [
    "#### Solution:"
   ]
  },
  {
   "cell_type": "markdown",
   "id": "ee730288",
   "metadata": {},
   "source": [
    "The right tailed test and the left tailed test are examples of one-tailed tests. They are called “one tailed” tests because the rejection region (the area where you would reject the null hypothesis) is only in one tail. The two tailed test is called a two tailed test because the rejection region can be in either tail.There are three different types of hypothesis tests:\n",
    "\n",
    "    Two-tailed test: The alternative hypothesis contains the “≠” sign\n",
    "    Left-tailed test: The alternative hypothesis contains the “<” sign\n",
    "    Right-tailed test: The alternative hypothesis contains the “>” sign\n",
    "    \n",
    "To analyze the data and determine whether there is any difference in average TAT among the different laboratories at a 5% significance level, we can conduct an Analysis of Variance (ANOVA) test. This is because there are 4 groups to conmpare and in this case analysis of variance method is preferred.There are two elements of ANOVA: Variation within each group. Variation between groups."
   ]
  },
  {
   "cell_type": "markdown",
   "id": "7399bfcb",
   "metadata": {},
   "source": [
    "#### Step 1 :  Set up the null and alternative hypothesis"
   ]
  },
  {
   "cell_type": "markdown",
   "id": "566d69fa",
   "metadata": {},
   "source": [
    "Set up the null and alternative hypotheses\n",
    "We want to test whether there is any significant difference in the average TAT among the four laboratories. \n",
    "The null hypothesis(H0) is that there is no difference in the mean TAT among the four laboratories, while the alternative hypothesis(H1) is that there is a significant difference in the mean TAT among at least two of the four laboratories. \n",
    "\n",
    "H0: The mean TAT for all the laboratories is the same.\n",
    "nu1=nu2=nu3=nu4\n",
    "There is no significant difference between TAT reports of the laboratories.\n",
    "\n",
    "H1: The mean TAT for all laboratories is different from others.\n",
    "Atleast one mean of the group is different.\n",
    "There is a significant difference between TAT reports of the laboratories\n",
    "\n",
    "This is a two-tailed hypothesis test."
   ]
  },
  {
   "cell_type": "markdown",
   "id": "edcae282",
   "metadata": {},
   "source": [
    "#### Step 2 : Check the assumptions of ANOVA"
   ]
  },
  {
   "cell_type": "markdown",
   "id": "71f12f1d",
   "metadata": {},
   "source": [
    "Before performing the ANOVA test, we need to check the assumptions of normality, equal variances, and independence.\n",
    "\n",
    "We can check the normality assumption by creating a histogram and a normal probability plot of the data for each laboratory. We can check the equal variance assumption by performing a Levene's test."
   ]
  },
  {
   "cell_type": "markdown",
   "id": "ae5f5079",
   "metadata": {},
   "source": [
    "#### Step 3 : Performing the Normality test and Homogeneity of variance assumption check"
   ]
  },
  {
   "cell_type": "code",
   "execution_count": 8,
   "id": "5d112cea",
   "metadata": {},
   "outputs": [
    {
     "name": "stdout",
     "output_type": "stream",
     "text": [
      "Total number of entries: 480\n"
     ]
    },
    {
     "data": {
      "image/png": "[encoded data removed]",
      "text/plain": [
       "<Figure size 1000x800 with 9 Axes>"
      ]
     },
     "metadata": {},
     "output_type": "display_data"
    }
   ],
   "source": [
    "import scipy.stats as stats\n",
    "import numpy as np\n",
    "import statsmodels.api as sm\n",
    "import pandas as pd\n",
    "import matplotlib.pyplot as plt\n",
    "import seaborn as sns\n",
    "Labs = pd.read_csv('LabTAT.csv')\n",
    "# count the number of entries\n",
    "num_entries = Labs.shape[0] * Labs.shape[1]\n",
    "# print the result\n",
    "print(\"Total number of entries:\", num_entries)\n",
    "\n",
    "#Displaying first 10 columns of the dataset LabTAT\n",
    "Labs.head(11)\n",
    "#Displaying last 10 columns of the dataset LabTAT\n",
    "Labs.tail(11)\n",
    "figure, axes = plt.subplots(3, 3, figsize=(10,8))\n",
    "sm.qqplot(Labs[\"Laboratory 1\"], line='q', ax = axes[0, 0])\n",
    "sm.qqplot(Labs[\"Laboratory 2\"], line='q', ax = axes[0, 1])\n",
    "sm.qqplot(Labs[\"Laboratory 3\"], line='q', ax = axes[1, 0])\n",
    "sm.qqplot(Labs[\"Laboratory 4\"], line='q', ax = axes[1, 1])   \n",
    "plt.tight_layout()\n",
    "plt.show()"
   ]
  },
  {
   "cell_type": "markdown",
   "id": "8bf602cc",
   "metadata": {},
   "source": [
    "The Q-Q plot shows a largely straight-line pattern if it is from a normal distribution. From the above figure, we may assume that the data for each group falls roughly on a straight line."
   ]
  },
  {
   "cell_type": "code",
   "execution_count": 13,
   "id": "43a24cdf",
   "metadata": {},
   "outputs": [
    {
     "data": {
      "text/html": [
       "<div>\n",
       "<style scoped>\n",
       "    .dataframe tbody tr th:only-of-type {\n",
       "        vertical-align: middle;\n",
       "    }\n",
       "\n",
       "    .dataframe tbody tr th {\n",
       "        vertical-align: top;\n",
       "    }\n",
       "\n",
       "    .dataframe thead th {\n",
       "        text-align: right;\n",
       "    }\n",
       "</style>\n",
       "<table border=\"1\" class=\"dataframe\">\n",
       "  <thead>\n",
       "    <tr style=\"text-align: right;\">\n",
       "      <th></th>\n",
       "      <th>Laboratory 1</th>\n",
       "      <th>Laboratory 2</th>\n",
       "      <th>Laboratory 3</th>\n",
       "      <th>Laboratory 4</th>\n",
       "    </tr>\n",
       "  </thead>\n",
       "  <tbody>\n",
       "    <tr>\n",
       "      <th>0</th>\n",
       "      <td>185.35</td>\n",
       "      <td>165.53</td>\n",
       "      <td>176.70</td>\n",
       "      <td>166.13</td>\n",
       "    </tr>\n",
       "    <tr>\n",
       "      <th>1</th>\n",
       "      <td>170.49</td>\n",
       "      <td>185.91</td>\n",
       "      <td>198.45</td>\n",
       "      <td>160.79</td>\n",
       "    </tr>\n",
       "    <tr>\n",
       "      <th>2</th>\n",
       "      <td>192.77</td>\n",
       "      <td>194.92</td>\n",
       "      <td>201.23</td>\n",
       "      <td>185.18</td>\n",
       "    </tr>\n",
       "    <tr>\n",
       "      <th>3</th>\n",
       "      <td>177.33</td>\n",
       "      <td>183.00</td>\n",
       "      <td>199.61</td>\n",
       "      <td>176.42</td>\n",
       "    </tr>\n",
       "    <tr>\n",
       "      <th>4</th>\n",
       "      <td>193.41</td>\n",
       "      <td>169.57</td>\n",
       "      <td>204.63</td>\n",
       "      <td>152.60</td>\n",
       "    </tr>\n",
       "    <tr>\n",
       "      <th>5</th>\n",
       "      <td>179.45</td>\n",
       "      <td>197.00</td>\n",
       "      <td>181.51</td>\n",
       "      <td>161.12</td>\n",
       "    </tr>\n",
       "    <tr>\n",
       "      <th>6</th>\n",
       "      <td>191.37</td>\n",
       "      <td>166.36</td>\n",
       "      <td>214.21</td>\n",
       "      <td>154.02</td>\n",
       "    </tr>\n",
       "    <tr>\n",
       "      <th>7</th>\n",
       "      <td>166.81</td>\n",
       "      <td>169.60</td>\n",
       "      <td>183.43</td>\n",
       "      <td>163.25</td>\n",
       "    </tr>\n",
       "    <tr>\n",
       "      <th>8</th>\n",
       "      <td>158.81</td>\n",
       "      <td>175.36</td>\n",
       "      <td>191.60</td>\n",
       "      <td>152.79</td>\n",
       "    </tr>\n",
       "    <tr>\n",
       "      <th>9</th>\n",
       "      <td>165.88</td>\n",
       "      <td>198.68</td>\n",
       "      <td>208.43</td>\n",
       "      <td>161.98</td>\n",
       "    </tr>\n",
       "  </tbody>\n",
       "</table>\n",
       "</div>"
      ],
      "text/plain": [
       "   Laboratory 1  Laboratory 2  Laboratory 3  Laboratory 4\n",
       "0        185.35        165.53        176.70        166.13\n",
       "1        170.49        185.91        198.45        160.79\n",
       "2        192.77        194.92        201.23        185.18\n",
       "3        177.33        183.00        199.61        176.42\n",
       "4        193.41        169.57        204.63        152.60\n",
       "5        179.45        197.00        181.51        161.12\n",
       "6        191.37        166.36        214.21        154.02\n",
       "7        166.81        169.60        183.43        163.25\n",
       "8        158.81        175.36        191.60        152.79\n",
       "9        165.88        198.68        208.43        161.98"
      ]
     },
     "execution_count": 13,
     "metadata": {},
     "output_type": "execute_result"
    }
   ],
   "source": [
    "Labs = pd.read_csv('LabTAT.csv')\n",
    "Labs.head(10)"
   ]
  },
  {
   "cell_type": "code",
   "execution_count": 10,
   "id": "05866a6d",
   "metadata": {},
   "outputs": [
    {
     "data": {
      "text/html": [
       "<div>\n",
       "<style scoped>\n",
       "    .dataframe tbody tr th:only-of-type {\n",
       "        vertical-align: middle;\n",
       "    }\n",
       "\n",
       "    .dataframe tbody tr th {\n",
       "        vertical-align: top;\n",
       "    }\n",
       "\n",
       "    .dataframe thead th {\n",
       "        text-align: right;\n",
       "    }\n",
       "</style>\n",
       "<table border=\"1\" class=\"dataframe\">\n",
       "  <thead>\n",
       "    <tr style=\"text-align: right;\">\n",
       "      <th></th>\n",
       "      <th>Laboratory 1</th>\n",
       "      <th>Laboratory 2</th>\n",
       "      <th>Laboratory 3</th>\n",
       "      <th>Laboratory 4</th>\n",
       "    </tr>\n",
       "  </thead>\n",
       "  <tbody>\n",
       "    <tr>\n",
       "      <th>110</th>\n",
       "      <td>172.05</td>\n",
       "      <td>174.43</td>\n",
       "      <td>211.64</td>\n",
       "      <td>152.31</td>\n",
       "    </tr>\n",
       "    <tr>\n",
       "      <th>111</th>\n",
       "      <td>181.88</td>\n",
       "      <td>168.20</td>\n",
       "      <td>183.19</td>\n",
       "      <td>191.26</td>\n",
       "    </tr>\n",
       "    <tr>\n",
       "      <th>112</th>\n",
       "      <td>201.11</td>\n",
       "      <td>195.07</td>\n",
       "      <td>203.05</td>\n",
       "      <td>160.98</td>\n",
       "    </tr>\n",
       "    <tr>\n",
       "      <th>113</th>\n",
       "      <td>154.21</td>\n",
       "      <td>193.79</td>\n",
       "      <td>197.88</td>\n",
       "      <td>192.23</td>\n",
       "    </tr>\n",
       "    <tr>\n",
       "      <th>114</th>\n",
       "      <td>145.89</td>\n",
       "      <td>175.16</td>\n",
       "      <td>203.39</td>\n",
       "      <td>139.34</td>\n",
       "    </tr>\n",
       "    <tr>\n",
       "      <th>115</th>\n",
       "      <td>178.49</td>\n",
       "      <td>170.66</td>\n",
       "      <td>193.80</td>\n",
       "      <td>172.68</td>\n",
       "    </tr>\n",
       "    <tr>\n",
       "      <th>116</th>\n",
       "      <td>176.08</td>\n",
       "      <td>183.98</td>\n",
       "      <td>215.25</td>\n",
       "      <td>177.64</td>\n",
       "    </tr>\n",
       "    <tr>\n",
       "      <th>117</th>\n",
       "      <td>202.48</td>\n",
       "      <td>174.54</td>\n",
       "      <td>203.99</td>\n",
       "      <td>170.27</td>\n",
       "    </tr>\n",
       "    <tr>\n",
       "      <th>118</th>\n",
       "      <td>182.40</td>\n",
       "      <td>197.18</td>\n",
       "      <td>194.52</td>\n",
       "      <td>150.87</td>\n",
       "    </tr>\n",
       "    <tr>\n",
       "      <th>119</th>\n",
       "      <td>182.09</td>\n",
       "      <td>215.17</td>\n",
       "      <td>221.49</td>\n",
       "      <td>162.21</td>\n",
       "    </tr>\n",
       "  </tbody>\n",
       "</table>\n",
       "</div>"
      ],
      "text/plain": [
       "     Laboratory 1  Laboratory 2  Laboratory 3  Laboratory 4\n",
       "110        172.05        174.43        211.64        152.31\n",
       "111        181.88        168.20        183.19        191.26\n",
       "112        201.11        195.07        203.05        160.98\n",
       "113        154.21        193.79        197.88        192.23\n",
       "114        145.89        175.16        203.39        139.34\n",
       "115        178.49        170.66        193.80        172.68\n",
       "116        176.08        183.98        215.25        177.64\n",
       "117        202.48        174.54        203.99        170.27\n",
       "118        182.40        197.18        194.52        150.87\n",
       "119        182.09        215.17        221.49        162.21"
      ]
     },
     "execution_count": 10,
     "metadata": {},
     "output_type": "execute_result"
    }
   ],
   "source": [
    "Labs = pd.read_csv('LabTAT.csv')\n",
    "Labs.tail(10)"
   ]
  },
  {
   "cell_type": "code",
   "execution_count": 14,
   "id": "86316819",
   "metadata": {},
   "outputs": [
    {
     "name": "stdout",
     "output_type": "stream",
     "text": [
      "Standard Deviation of Laboratory 1: 13.173593589458577\n",
      "Mean of Laboratory 1: 178.36158333333336\n",
      "Standard Deviation of Laboratory 2: 14.957113728438193\n",
      "Mean of Laboratory 2: 178.9029166666667\n",
      "Standard Deviation of Laboratory 3: 16.539032831329596\n",
      "Mean of Laboratory 3: 199.91324999999998\n",
      "Standard Deviation of Laboratory 4: 15.08507977671142\n",
      "Mean of Laboratory 4: 163.68275\n",
      "Ratio: 1.2554685795502316\n"
     ]
    }
   ],
   "source": [
    "std1=Labs['Laboratory 1'].std()\n",
    "std1_mean=Labs['Laboratory 1'].mean()\n",
    "print('Standard Deviation of Laboratory 1:',std1)\n",
    "print('Mean of Laboratory 1:',std1_mean)\n",
    "std2=Labs['Laboratory 2'].std()\n",
    "std2_mean=Labs['Laboratory 2'].mean()\n",
    "print('Standard Deviation of Laboratory 2:',std2)\n",
    "print('Mean of Laboratory 2:',std2_mean)\n",
    "std3=Labs['Laboratory 3'].std()\n",
    "std3_mean=Labs['Laboratory 3'].mean()\n",
    "print('Standard Deviation of Laboratory 3:',std3)\n",
    "print('Mean of Laboratory 3:',std3_mean)\n",
    "std4=Labs['Laboratory 4'].std()\n",
    "std4_mean=Labs['Laboratory 4'].mean()\n",
    "print('Standard Deviation of Laboratory 4:',std4)\n",
    "print('Mean of Laboratory 4:',std4_mean)\n",
    "#From above we can see that the lowest std is 13.17 and the highest std is 16.53\n",
    "#Hence removing the ratio of both the quantities\n",
    "Ratio=std3/std1\n",
    "print('Ratio:',Ratio)\n",
    "#As the ratio calculated is less than the threshold of 2, we conclude that the assumptions are fullfilled"
   ]
  },
  {
   "cell_type": "code",
   "execution_count": null,
   "id": "0743ab52",
   "metadata": {},
   "outputs": [],
   "source": [
    "#Inference is that it lands near the mean"
   ]
  },
  {
   "cell_type": "markdown",
   "id": "453fefe1",
   "metadata": {},
   "source": [
    "#### Step 4 : Hypothesis Testing"
   ]
  },
  {
   "cell_type": "code",
   "execution_count": 67,
   "id": "cd366af8",
   "metadata": {},
   "outputs": [
    {
     "name": "stdout",
     "output_type": "stream",
     "text": [
      "The Mean of Laboratory 1 is : 178.36158333333339\n",
      "The Mean of Laboratory 2 is : 178.9029166666668\n",
      "The Mean of Laboratory 3 is : 199.91325000000003\n",
      "The Mean of Laboratory 4 is : 163.6827499999999\n",
      "The Grand Mean is : 180.21512500000006\n"
     ]
    },
    {
     "data": {
      "text/html": [
       "<div>\n",
       "<style scoped>\n",
       "    .dataframe tbody tr th:only-of-type {\n",
       "        vertical-align: middle;\n",
       "    }\n",
       "\n",
       "    .dataframe tbody tr th {\n",
       "        vertical-align: top;\n",
       "    }\n",
       "\n",
       "    .dataframe thead th {\n",
       "        text-align: right;\n",
       "    }\n",
       "</style>\n",
       "<table border=\"1\" class=\"dataframe\">\n",
       "  <thead>\n",
       "    <tr style=\"text-align: right;\">\n",
       "      <th></th>\n",
       "      <th>SS</th>\n",
       "      <th>df</th>\n",
       "      <th>MS</th>\n",
       "      <th>F</th>\n",
       "      <th>P-value</th>\n",
       "      <th>F crit</th>\n",
       "    </tr>\n",
       "    <tr>\n",
       "      <th>Source of Variation</th>\n",
       "      <th></th>\n",
       "      <th></th>\n",
       "      <th></th>\n",
       "      <th></th>\n",
       "      <th></th>\n",
       "      <th></th>\n",
       "    </tr>\n",
       "  </thead>\n",
       "  <tbody>\n",
       "    <tr>\n",
       "      <th>Between Groups</th>\n",
       "      <td>79979.167089</td>\n",
       "      <td>3</td>\n",
       "      <td>26659.722363</td>\n",
       "      <td>67.321922</td>\n",
       "      <td>0.0</td>\n",
       "      <td>3.143609</td>\n",
       "    </tr>\n",
       "    <tr>\n",
       "      <th>Within Groups</th>\n",
       "      <td>188497.707</td>\n",
       "      <td>476</td>\n",
       "      <td>396.003586</td>\n",
       "      <td></td>\n",
       "      <td></td>\n",
       "      <td></td>\n",
       "    </tr>\n",
       "    <tr>\n",
       "      <th>Total</th>\n",
       "      <td>268476.874089</td>\n",
       "      <td>479</td>\n",
       "      <td>560.494518</td>\n",
       "      <td></td>\n",
       "      <td></td>\n",
       "      <td></td>\n",
       "    </tr>\n",
       "  </tbody>\n",
       "</table>\n",
       "</div>"
      ],
      "text/plain": [
       "                                SS   df            MS          F P-value  \\\n",
       "Source of Variation                                                        \n",
       "Between Groups        79979.167089    3  26659.722363  67.321922     0.0   \n",
       "Within Groups           188497.707  476    396.003586                      \n",
       "Total                268476.874089  479    560.494518                      \n",
       "\n",
       "                       F crit  \n",
       "Source of Variation            \n",
       "Between Groups       3.143609  \n",
       "Within Groups                  \n",
       "Total                          "
      ]
     },
     "execution_count": 67,
     "metadata": {},
     "output_type": "execute_result"
    }
   ],
   "source": [
    "No_of_groups=4\n",
    "#Create ANOVA backbone table\n",
    "data = [['Between Groups', '', '', '', '', '', ''], ['Within Groups', '', '', '', '', '', ''], ['Total', '', '', '', '', '', '']] \n",
    "anova_table = pd.DataFrame(data, columns = ['Source of Variation', 'SS', 'df', 'MS', 'F', 'P-value', 'F crit']) \n",
    "anova_table.set_index('Source of Variation', inplace = True)\n",
    "\n",
    "#Calculating mean\n",
    "x_bar1 = Labs['Laboratory 1'].mean()\n",
    "x_bar2 = Labs['Laboratory 2'].mean()\n",
    "x_bar3 = Labs['Laboratory 3'].mean()\n",
    "x_bar4 = Labs['Laboratory 4'].mean()\n",
    "\n",
    "#Calculating the Grand Mean\n",
    "x_bar=(x_bar1+x_bar2+x_bar3+x_bar4)/4\n",
    "\n",
    "\n",
    "print('The Mean of Laboratory 1 is :',x_bar1)\n",
    "print('The Mean of Laboratory 2 is :',x_bar2)\n",
    "print('The Mean of Laboratory 3 is :',x_bar3)\n",
    "print('The Mean of Laboratory 4 is :',x_bar4)\n",
    "print('The Grand Mean is :',x_bar)\n",
    "\n",
    "\n",
    "#Calculate Sum of Squares between groups and update the anova table\n",
    "SSB1 = Labs['Laboratory 1'].count() * (x_bar1 - x_bar)**2\n",
    "SSB2 = Labs['Laboratory 2'].count() * (x_bar2 - x_bar)**2\n",
    "SSB3 = Labs['Laboratory 3'].count() * (x_bar3 - x_bar)**2\n",
    "SSB4 = Labs['Laboratory 4'].count() * (x_bar4 - x_bar)**2\n",
    "#Sum of Squares between groups\n",
    "SSB=SSB1+SSB2+SSB3+SSB4\n",
    "anova_table['SS']['Between Groups'] = SSB\n",
    "\n",
    "\n",
    "SSE1 = 0\n",
    "for row in range(len(Labs['Laboratory 1'])):\n",
    "         SSE1 += (Labs['Laboratory 1'][row] - x_bar1)**2\n",
    "\n",
    "SSE2 = 0\n",
    "for row in range(len(Labs['Laboratory 2'])):\n",
    "         SSE2 += (Labs['Laboratory 2'][row] - x_bar2)**2\n",
    "\n",
    "\n",
    "SSE3 = 0\n",
    "for row in range(len(Labs['Laboratory 3'])):\n",
    "         SSE3 += (Labs['Laboratory 3'][row] - x_bar1)**2\n",
    "\n",
    "SSE4 = 0\n",
    "for row in range(len(Labs['Laboratory 4'])):\n",
    "         SSE1 += (Labs['Laboratory 4'][row] - x_bar1)**2\n",
    "\n",
    "SSE=SSE1+SSE2+SSE3+SSE4\n",
    "anova_table['SS']['Within Groups'] = SSE\n",
    "\n",
    "#Calculate SSTR and update anova table\n",
    "SSTR = SSB + SSE\n",
    "anova_table['SS']['Total'] = SSTR\n",
    "\n",
    "#Update degree of freedom\n",
    "\n",
    "#df between groups= k-1\n",
    "anova_table['df']['Between Groups'] =  No_of_groups-1\n",
    "#df within groups= N-k\n",
    "anova_table['df']['Within Groups'] = num_entries-No_of_groups\n",
    "#df total = N-1\n",
    "anova_table['df']['Total'] = num_entries - 1\n",
    "\n",
    "#Calculate Mean Square between groups and mean square within the groups\n",
    "anova_table['MS'] = anova_table['SS'] / anova_table['df']\n",
    "\n",
    "#Calculate F-Ratio\n",
    "F = anova_table['MS']['Between Groups'] / anova_table['MS']['Within Groups']\n",
    "anova_table['F']['Between Groups'] = F\n",
    "\n",
    "\n",
    "#Calculating p-value\n",
    "anova_table['P-value']['Between Groups'] = 1 - stats.f.cdf(F, anova_table['df']['Between Groups'], anova_table['df']['Within Groups'])\n",
    "\n",
    "#Calculating the value of F critical \n",
    "#Assuming that the level of significance is 0.05\n",
    "alpha = 0.05\n",
    "# possible types \"right-tailed, left-tailed, two-tailed\"\n",
    "tail_hypothesis_type = \"two-tailed\"\n",
    "if tail_hypothesis_type == \"two-tailed\":\n",
    "    alpha /= 2\n",
    "anova_table['F crit']['Between Groups'] = stats.f.ppf(1-alpha, anova_table['df']['Between Groups'], anova_table['df']['Within Groups'])\n",
    "\n",
    "# Final ANOVA Table\n",
    "anova_table"
   ]
  },
  {
   "cell_type": "markdown",
   "id": "b332f532",
   "metadata": {},
   "source": [
    "From the above table, we can observe that F-ratio is 67.321922 and that of F critical is 3.143.\n",
    "The value of F ratio is far greater than that of F critical. Hence, we reject the null hypothesis (H0) and accept alternative hypothesis(H1).\n",
    "\n",
    "F-Ratio > F critical Value\n",
    "\n",
    "Also, after observing the value of p , it comes to 0.000 which is less than that of the level of significance(alpha=0.05).\n",
    "Hence, we reject the null hypothesis (H0) and accept the alternate hypothesis (H1)\n",
    "\n",
    "alpha > p-value\n",
    "\n",
    "H1: The mean TAT for all laboratories is different from others.\n",
    "Atleast one mean of the group is different.\n",
    "There is a significant difference between TAT reports of the laboratories.\n"
   ]
  },
  {
   "cell_type": "markdown",
   "id": "35dbad1c",
   "metadata": {},
   "source": [
    "#### Step 5 :  Performing ANNOVA Test ( Alternative Method)"
   ]
  },
  {
   "cell_type": "code",
   "execution_count": 69,
   "id": "ccc03d4d",
   "metadata": {},
   "outputs": [
    {
     "name": "stdout",
     "output_type": "stream",
     "text": [
      "F-statistic: 118.70421654401437\n",
      "p-value: 2.1156708949992414e-57\n",
      "F-critical value: 3.143609235389497\n"
     ]
    }
   ],
   "source": [
    "import pandas as pd\n",
    "import scipy.stats as stats\n",
    "import statsmodels.api as sm\n",
    "#Extracting the csv file using pandas into the data variable\n",
    "#Calculating the F-statistic value and the p-value\n",
    "data = pd.read_csv('LabTAT.csv')\n",
    "F, p = stats.f_oneway(data['Laboratory 1'], data['Laboratory 2'], data['Laboratory 3'], data['Laboratory 4'],axis=0)\n",
    "print('F-statistic:', F)\n",
    "print('p-value:', p)\n",
    "#Calculating the Fc i.e the F value\n",
    "#For calculating F-Critical value scipy.stats provide us scipy.stats.f.ppf(q,dfn,dfd) function \n",
    "#q: It represents the significance level to be used\n",
    "#dfn: It represents the numerator degrees of freedom\n",
    "#dfn=k-1\n",
    "#k represents the number of groups\n",
    "#dfd: It represents the denominator degrees of freedom \n",
    "#dfd=N-k\n",
    "#N represents the number of sample\n",
    "#Returns the critical value from the F-distribution\n",
    "#As the hypothesis test is two-tailed\n",
    "#alpha=alpha/2\n",
    "alpha=0.05\n",
    "alpha/=2 \n",
    "Fc=stats.f.ppf(1-alpha, anova_table['df']['Between Groups'], anova_table['df']['Within Groups'])\n",
    "print('F-critical value:',Fc)"
   ]
  },
  {
   "cell_type": "markdown",
   "id": "f0635d9f",
   "metadata": {},
   "source": [
    "#### Step 4: Conclusion"
   ]
  },
  {
   "cell_type": "markdown",
   "id": "f9e7a0a1",
   "metadata": {},
   "source": [
    "As, the value of p is significantly less than the level of significane i.e alpha =0.05 ans also to solidifty the claim, we have the value of F-ratio to 118.70421654401437 whereas the F-critical value is 3.143609235389497. So, F-Ratio is more than that of the Fc.\n",
    "This means we reject the null hypothesis (H0) and accept the alternative hypothesis (H1).\n",
    "The mean TAT for all the laboratories is not the same"
   ]
  },
  {
   "cell_type": "code",
   "execution_count": null,
   "id": "43104500",
   "metadata": {},
   "outputs": [],
   "source": []
  },
  {
   "cell_type": "markdown",
   "id": "c83a8d8f",
   "metadata": {},
   "source": [
    "### Question 3"
   ]
  },
  {
   "attachments": {
    "Capture.PNG": {
     "image/png": "[encoded data removed]"
    }
   },
   "cell_type": "markdown",
   "id": "4279dcf0",
   "metadata": {},
   "source": [
    "![Capture.PNG](attachment:Capture.PNG)"
   ]
  },
  {
   "cell_type": "markdown",
   "id": "2f41f1fd",
   "metadata": {},
   "source": [
    "#### Solution:"
   ]
  },
  {
   "cell_type": "markdown",
   "id": "f8cb3c78",
   "metadata": {},
   "source": [
    "#### Step 1 :  Set up the null and alternative hypothesis"
   ]
  },
  {
   "cell_type": "markdown",
   "id": "e5bf9959",
   "metadata": {},
   "source": [
    "In this question , we have to check whether male-female buyer rations are similar across regions.\n",
    "We can perform test of independence using the Chi-Square test with the help of the Contigency table.\n",
    "\n",
    "\n",
    "Null Hypothesis : There is no association or dependency between the gender based buyer rations across regions. \n",
    "\n",
    "Alternative Hypothesis : There is a significant association or dependency between the gender based buyer rations across regions. \n",
    "\n",
    "H0: The two categorical variables have no relationship.If H0 is true, each cell of the value in the contingency table above will contain a theoretical or expected frequency Eᵢⱼ, as opposed to the observed value Oᵢⱼ for each cell.\n",
    "\n",
    "H1: There is a relationship between two categorical variables.If H1 is true, each cell of the value in the contingency table above will contain a Observed frequency Oᵢⱼ, as opposed to the Theoretical or Expected value Eᵢⱼ for each cell.\n",
    "\n",
    "Deceiding the level of significance i.e. alpha is equal to 5 % =0.05\n",
    "Here, We have decided on a 5% risk of concluding the two variables are independent when in reality they are not. We will have to perform the Chi-Square test as there are two qualitative variables that are independent i.e the rows of male and female. These two are independent.\n",
    "\n",
    "The number of degrees of freedom of the χ2 independence test statistics :\n",
    "df=(Number of rows -1)* (Number of columns -1)\n",
    "df=(2-1) * (4-1)\n",
    "df=1 * 3\n",
    "df=3\n"
   ]
  },
  {
   "cell_type": "markdown",
   "id": "4fcbb7da",
   "metadata": {},
   "source": [
    "#### Step 2 : Chi Square Test"
   ]
  },
  {
   "cell_type": "code",
   "execution_count": 11,
   "id": "0f367834",
   "metadata": {
    "scrolled": true
   },
   "outputs": [
    {
     "name": "stdout",
     "output_type": "stream",
     "text": [
      "Observed Table\n",
      "\n",
      "\n",
      "                East  West North South Total 1\n",
      "Observed Values                               \n",
      "Males             50   142   131    70     393\n",
      "Females          435  1523  1356   750    4064\n",
      "Total 2          485  1665  1487   820    4457\n",
      "---------------------\n",
      "Expected Table\n",
      "\n",
      "\n",
      "                       East         West        North       South Total 1\n",
      "Expected Values                                                          \n",
      "Males             42.765313   146.812879   131.117568   72.304241     393\n",
      "Females          442.234687  1518.187121  1355.882432  747.695759    4064\n",
      "Total 2                 485         1665         1487         820    4457\n",
      "---------------------------------------------\n",
      "\n",
      "\n",
      "Chi-square statistic: 1.595945538661058\n",
      "P-value 0.6603094907091882\n",
      "Degrees of Freedom 3\n",
      "Expected Value [[  42.76531299  146.81287862  131.11756787   72.30424052]\n",
      " [ 442.23468701 1518.18712138 1355.88243213  747.69575948]]\n"
     ]
    }
   ],
   "source": [
    "import scipy.stats as stats\n",
    "import numpy as np\n",
    "import statsmodels.api as sm\n",
    "import pandas as pd\n",
    "import matplotlib.pyplot as plt\n",
    "import pandas as pd\n",
    "from scipy.stats import chi2_contingency\n",
    "import seaborn as sns\n",
    "\n",
    "No_of_groups=4\n",
    "#Creating Observed table\n",
    "\n",
    "data=[['Males',50 ,142 ,131 ,70 ,'' ], ['Females',435 ,1523 ,1356 ,750,'' ],\n",
    "      ['Total 2','' ,'' ,'' ,'','' ]] \n",
    "\n",
    "Observed_table=pd.DataFrame(data, columns = ['Observed Values','East', 'West','North','South',\n",
    "                                             'Total 1']) \n",
    "Observed_table.set_index('Observed Values', inplace = True)\n",
    "\n",
    "\n",
    "Observed_table['East']['Total 2']= Observed_table['East']['Males']+ Observed_table['East']['Females']\n",
    "Observed_table['West']['Total 2']= Observed_table['West']['Males']+ Observed_table['West']['Females']\n",
    "Observed_table['North']['Total 2']= Observed_table['North']['Males']+ Observed_table['North']['Females']\n",
    "Observed_table['South']['Total 2']= Observed_table['South']['Males']+ Observed_table['South']['Females']\n",
    "Observed_table['Total 1']['Males']= Observed_table['East']['Males']+ Observed_table['West']['Males']+Observed_table['North']['Males']+ Observed_table['South']['Males']\n",
    "Observed_table['Total 1']['Females']= Observed_table['East']['Females']+ Observed_table['West']['Females']+Observed_table['North']['Females']+ Observed_table['South']['Females']\n",
    "Observed_table['Total 1']['Total 2']= Observed_table['Total 1']['Males']+ Observed_table['Total 1']['Females']\n",
    "\n",
    "print('Observed Table')\n",
    "print('\\n')\n",
    "print(Observed_table)\n",
    "\n",
    "\n",
    "\n",
    "\n",
    "#Now the table for expected frequencies\n",
    "#By using the formula EF = Total # of obs for row * Total # of obs for col / Total number of obs\n",
    "print('---------------------')\n",
    "\n",
    "#Creating Expected Table\n",
    "data=[['Males','' ,'' ,'' ,'' ,'' ], ['Females','' ,'','' ,'','' ], ['Total 2','485','1665','1487',' 820','' ]] \n",
    "Expected_table=pd.DataFrame(data, columns = ['Expected Values','East', 'West','North','South','Total 1']) \n",
    "Expected_table.set_index('Expected Values', inplace = True)\n",
    "\n",
    "\n",
    "Expected_table['East']['Males']= (Observed_table['East']['Total 2']*Observed_table['Total 1']['Males'])/4457\n",
    "Expected_table['East']['Females']= (Observed_table['East']['Total 2']*Observed_table['Total 1']['Females'])/4457\n",
    "\n",
    "\n",
    "Expected_table['West']['Males']=(Observed_table['West']['Total 2']*Observed_table['Total 1']['Males'])/4457 \n",
    "Expected_table['West']['Females']= (Observed_table['West']['Total 2']*Observed_table['Total 1']['Females'])/4457\n",
    "\n",
    "\n",
    "\n",
    "Expected_table['North']['Males']=(Observed_table['North']['Total 2']*Observed_table['Total 1']['Males'])/4457 \n",
    "Expected_table['North']['Females']= (Observed_table['North']['Total 2']*Observed_table['Total 1']['Females'])/4457\n",
    "\n",
    "\n",
    "Expected_table['South']['Males']=(Observed_table['South']['Total 2']*Observed_table['Total 1']['Males'])/4457 \n",
    "Expected_table['South']['Females']= (Observed_table['South']['Total 2']*Observed_table['Total 1']['Females'])/4457\n",
    "\n",
    "Expected_table['Total 1']['Males'] = 393\n",
    "Expected_table['Total 1']['Females'] = 4064\n",
    "Expected_table['Total 1']['Total 2'] = 4457\n",
    "\n",
    "print('Expected Table')\n",
    "print('\\n')\n",
    "print(Expected_table)\n",
    "\n",
    "\n",
    "print('---------------------------------------------')\n",
    "#Significance level\n",
    "alpha = 0.05\n",
    "\n",
    "# Calcualtion of Chisquare\n",
    "\n",
    "# create a pandas dataframe with the observed values\n",
    "observed_values = pd.DataFrame({\n",
    "    'East': [50, 435],\n",
    "    'West': [142, 1523],\n",
    "    'North': [131, 1356],\n",
    "    'South': [70, 750]\n",
    "}, index=['Males', 'Females'])\n",
    "\n",
    "#Perform the chi-square test for independence\n",
    "chi2, pval, dof, expected = chi2_contingency(observed_values)\n",
    "\n",
    "\n",
    "print('\\n')\n",
    "# print the results\n",
    "print(\"Chi-square statistic:\",chi2)\n",
    "print(\"P-value:\",pval)\n",
    "print(\"Degrees of Freedom:\",dof)\n",
    "print(\"Expected Value:\",expected)\n"
   ]
  },
  {
   "cell_type": "markdown",
   "id": "1e5e8ead",
   "metadata": {},
   "source": [
    "#### Step 3 : Conclusion"
   ]
  },
  {
   "cell_type": "markdown",
   "id": "d9940322",
   "metadata": {},
   "source": [
    "Ans : As, we can observe that the value of p is  0.6603094907091882 which is significantly greater than that of the level of significance(alpha = 0.05). (p-value > alpha). Hence, we cannot reject the null hypothesis.\n",
    "We can conclude there is no association or dependency between the gender based buyer rations across regions. "
   ]
  },
  {
   "cell_type": "code",
   "execution_count": null,
   "id": "09d6d1bb",
   "metadata": {},
   "outputs": [],
   "source": []
  },
  {
   "cell_type": "markdown",
   "id": "31bea56a",
   "metadata": {},
   "source": [
    "### Q.4 TeleCall uses 4 centers around the globe to process customer order forms. They audit a certain %  of the customer order forms. Any error in order form renders it defective and has to be reworked before processing.  The manager wants to check whether the defective %  varies by centre. Please analyze the data at 5% significance level and help the manager draw appropriate inferences.(Minitab File: CustomerOrderForm.mtw)"
   ]
  },
  {
   "cell_type": "markdown",
   "id": "7cbc7f2d",
   "metadata": {},
   "source": [
    "#### Solution:"
   ]
  },
  {
   "cell_type": "markdown",
   "id": "e9c573c5",
   "metadata": {},
   "source": [
    "#### Step 1 : Assuming Null Hypothesis and Alternate Hypothesis"
   ]
  },
  {
   "cell_type": "markdown",
   "id": "901cea58",
   "metadata": {},
   "source": [
    "To analyze the data at a 5% significance level and help the manager draw appropriate inferences, we can use a hypothesis testing approach. Specifically, we can use a chi-squared test of independence to determine if there is a significant association between the location of the center and the percentage of defective customer order forms. This is because the order from can either be defective or not.There is no  other option. The null hypothesis is that the defective percentage is the same across all centers, and the alternative hypothesis is that there is a difference.\n",
    "\n",
    "Null Hypothesis:\n",
    "The defective percentage is the same across all centers.\n",
    "\n",
    "Alternative Hypothesis:\n",
    "The alternative hypothesis is that there is a difference.\n",
    "\n",
    "\n",
    "To analyze the data at a 5% significance level and help the manager draw appropriate inferences in Python using the chi-square test, we will follow the below steps:\n",
    "\n",
    "   1) Load the required libraries and read the data from the file.\n",
    "   2) Create a contingency table to summarize the data.\n",
    "   3) Perform the chi-square test on the contingency table.\n",
    "   4) Interpret the test results."
   ]
  },
  {
   "cell_type": "markdown",
   "id": "bee9817f",
   "metadata": {},
   "source": [
    "#### Step 2 : Performing Chi-Square Test"
   ]
  },
  {
   "cell_type": "code",
   "execution_count": 98,
   "id": "b4956bee",
   "metadata": {},
   "outputs": [
    {
     "name": "stdout",
     "output_type": "stream",
     "text": [
      "----------------------------------------------------------------------\n",
      "\n",
      "\n",
      "Error Free    271\n",
      "Defective      29\n",
      "Name: Phillippines, dtype: int64 \n",
      " Error Free    267\n",
      "Defective      33\n",
      "Name: Indonesia, dtype: int64 \n",
      " Error Free    269\n",
      "Defective      31\n",
      "Name: Malta, dtype: int64 \n",
      " Error Free    280\n",
      "Defective      20\n",
      "Name: India, dtype: int64\n",
      "----------------------------------------------------------------------\n",
      "\n",
      "\n",
      "Contigency Table:\n",
      "╒════════════╤════════════════╤═════════════╤═════════╤═════════╕\n",
      "│            │   Phillippines │   Indonesia │   Malta │   India │\n",
      "╞════════════╪════════════════╪═════════════╪═════════╪═════════╡\n",
      "│ Error Free │            271 │         267 │     269 │     280 │\n",
      "├────────────┼────────────────┼─────────────┼─────────┼─────────┤\n",
      "│ Defective  │             29 │          33 │      31 │      20 │\n",
      "╘════════════╧════════════════╧═════════════╧═════════╧═════════╛\n",
      "----------------------------------------------------------------------\n",
      "\n",
      "\n",
      "Chi-Square Test\n",
      "Statistic: 3.858960685820355\n",
      "Degrees of Freedom: 3\n",
      "p-value: 0.2771020991233135\n",
      "Expected Table:\n",
      "╒════════════╤════════════════╤═════════════╤═════════╤═════════╕\n",
      "│            │   Phillippines │   Indonesia │   Malta │   India │\n",
      "╞════════════╪════════════════╪═════════════╪═════════╪═════════╡\n",
      "│ Error Free │         271.75 │      271.75 │  271.75 │  271.75 │\n",
      "├────────────┼────────────────┼─────────────┼─────────┼─────────┤\n",
      "│ Defective  │          28.25 │       28.25 │   28.25 │   28.25 │\n",
      "╘════════════╧════════════════╧═════════════╧═════════╧═════════╛\n",
      "Probability: 0.95\n",
      "Critical Value: 7.814727903251179\n",
      "Chi-Square Test Statistic: 3.858960685820355\n",
      "We accept the null Hypothesis as the statistic value is less than the critical value.\n"
     ]
    }
   ],
   "source": [
    "# Step 1: Load the required libraries and read the data from the file\n",
    "\n",
    "import pandas as pd\n",
    "import numpy as np\n",
    "from scipy.stats import chi2_contingency\n",
    "\n",
    "from tabulate import tabulate\n",
    "\n",
    "# Read the data from the file\n",
    "data = pd.read_csv(\"CustomerOrderForm.csv\")\n",
    "\n",
    "print('----------------------------------------------------------------------')\n",
    "print('\\n')\n",
    "#value_counts() counts the number of records for every combination of unique values for every column\n",
    "print(data['Phillippines'].value_counts(),'\\n',data['Indonesia'].value_counts(),'\\n',data['Malta'].value_counts(),'\\n',data['India'].value_counts())\n",
    "\n",
    "print('----------------------------------------------------------------------')\n",
    "print('\\n')\n",
    "\n",
    "\n",
    "\n",
    "\n",
    "\n",
    "\n",
    "#Create a list of lists containing the data\n",
    "contigency_table = [\n",
    "    [271, 267, 269, 280],\n",
    "    [29, 33, 31, 20]\n",
    "]\n",
    "\n",
    "#Create headers for the rows and columns\n",
    "row_headers = ['Error Free', 'Defective']\n",
    "column_headers = ['Phillippines', 'Indonesia', 'Malta', 'India']\n",
    "\n",
    "#Generate the table using tabulate\n",
    "table = tabulate(contingency_table, headers=column_headers, showindex=row_headers, tablefmt='fancy_grid')\n",
    "\n",
    "#Print the table\n",
    "print('Contigency Table:')\n",
    "print(table)\n",
    "\n",
    "\n",
    "print('----------------------------------------------------------------------')\n",
    "print('\\n')\n",
    "# Step 3: Perform the chi-square test on the contingency table\n",
    "\n",
    "# Calculate the chi-square test statistic, p-value, degrees of freedom, and expected values\n",
    "chi2_statistic, p_value, dof, expected_values = chi2_contingency(contingency_table)\n",
    "\n",
    "# Display the results of the chi-square test\n",
    "print(\"Chi-Square Test\")\n",
    "print(\"Statistic:\", chi2_statistic)\n",
    "print(\"Degrees of Freedom:\", dof)\n",
    "print(\"p-value:\", p_value)\n",
    "#Create headers for the rows and columns\n",
    "row_headers = ['Error Free', 'Defective']\n",
    "column_headers = ['Phillippines', 'Indonesia', 'Malta', 'India']\n",
    "\n",
    "#Generate the table using tabulate\n",
    "table = tabulate(expected_values, headers=column_headers, showindex=row_headers, tablefmt='fancy_grid')\n",
    "\n",
    "#Print the table\n",
    "print('Expected Table:')\n",
    "print(table)\n",
    "\n",
    "\n",
    "#Level of Significance\n",
    "alpha = 0.05\n",
    "probability = 1-alpha\n",
    "#Calculating the Critical Value \n",
    "cv = chi2.ppf(probability, dof)\n",
    "print('Probability:',probability)\n",
    "print('Critical Value:',cv)\n",
    "print('Chi-Square Test Statistic:',chi2_statistic)\n",
    "if chi2_statistic >= cv:\n",
    "    print('We reject the null Hypothesis as the statistic value is greater than the critical value.')\n",
    "else:\n",
    "    print('We accept the null Hypothesis as the statistic value is less than the critical value.')\n",
    "\n"
   ]
  },
  {
   "cell_type": "markdown",
   "id": "792b88f2",
   "metadata": {},
   "source": [
    "#### Step 3 : Conclusion"
   ]
  },
  {
   "cell_type": "markdown",
   "id": "d484847d",
   "metadata": {},
   "source": [
    "Finally, let's move on to step 4 and interpret the test results.\n",
    "\n",
    "Since the p-value of the test is greater than 0.05, we fail to reject the null hypothesis that the defective percentage is the same across all centers. Therefore, we do not have sufficient evidence to conclude that the defective percentage varies by center at the 5% significance level.\n",
    "Also, to confirm the same , the value of test statistic is less than the critical value. Hereby, we confirm that the defective percentage is the same across all the centers."
   ]
  }
 ],
 "metadata": {
  "kernelspec": {
   "display_name": "Python 3 (ipykernel)",
   "language": "python",
   "name": "python3"
  },
  "language_info": {
   "codemirror_mode": {
    "name": "ipython",
    "version": 3
   },
   "file_extension": ".py",
   "mimetype": "text/x-python",
   "name": "python",
   "nbconvert_exporter": "python",
   "pygments_lexer": "ipython3",
   "version": "3.10.9"
  }
 },
 "nbformat": 4,
 "nbformat_minor": 5
}
