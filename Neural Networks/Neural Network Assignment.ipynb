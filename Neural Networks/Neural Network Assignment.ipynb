{
 "cells": [
  {
   "cell_type": "markdown",
   "id": "8ef54099-b38e-4f0c-a15a-a3dd258bffee",
   "metadata": {},
   "source": [
    "## PREDICT THE BURNED AREA OF FOREST FIRES WITH NEURAL NETWORKS"
   ]
  },
  {
   "cell_type": "markdown",
   "id": "20949e42-ed44-4353-bc0e-5a3617371e9b",
   "metadata": {},
   "source": [
    "## FOREST FIRES"
   ]
  },
  {
   "cell_type": "code",
   "execution_count": null,
   "id": "bfb49d2a-9861-432d-bdd6-11b9dcfcdb2b",
   "metadata": {},
   "outputs": [],
   "source": [
    "#Load and Explore the Forest Fires Dataset\n",
    "# Import necessary libraries\n",
    "import pandas as pd\n",
    "import numpy as np\n",
    "import seaborn as sns\n",
    "import matplotlib.pyplot as plt\n",
    "\n",
    "# Load the dataset\n",
    "forest_data = pd.read_csv('forestfires.csv')\n",
    "\n",
    "# Display the first few rows of the dataset\n",
    "forest_data.head()"
   ]
  },
  {
   "cell_type": "code",
   "execution_count": null,
   "id": "b8893e5b-056e-4a6d-86a0-56ad399d34b2",
   "metadata": {},
   "outputs": [],
   "source": [
    "# Get information about the dataset\n",
    "forest_data.info()"
   ]
  },
  {
   "cell_type": "code",
   "execution_count": null,
   "id": "14cfa353-c4d8-4ee6-a2c5-31e6170f04d9",
   "metadata": {},
   "outputs": [],
   "source": [
    "# Check for missing values\n",
    "forest_data.isnull().sum()"
   ]
  },
  {
   "cell_type": "code",
   "execution_count": null,
   "id": "2488666d-7816-4679-af6e-05579647ed8b",
   "metadata": {},
   "outputs": [],
   "source": [
    "# Display the shape of the dataset\n",
    "forest_data.shape"
   ]
  },
  {
   "cell_type": "code",
   "execution_count": null,
   "id": "b56f8725-d37b-4de3-ae57-14b457863529",
   "metadata": {},
   "outputs": [],
   "source": [
    "forest_data"
   ]
  },
  {
   "cell_type": "code",
   "execution_count": null,
   "id": "a468c9a7-900a-458d-84cc-76f306f2dbcb",
   "metadata": {},
   "outputs": [],
   "source": [
    "import pandas as pd\n",
    "\n",
    "\n",
    "# Proceed with your operation\n",
    "f1 = forest_data.iloc[:, 0:11]\n",
    "forest = pd.concat([f1, forest_data['size_category']], axis=1)\n",
    "\n",
    "# Display the combined DataFrame\n",
    "print(forest.head())"
   ]
  },
  {
   "cell_type": "code",
   "execution_count": null,
   "id": "5ee9fd7b-6ed2-4959-9ddf-b4e524a3027f",
   "metadata": {},
   "outputs": [],
   "source": [
    "# Visualize the relationship between temperature and wind\n",
    "plt.figure(figsize=(16, 8))\n",
    "sns.boxenplot(x='temp', y='wind', data=features)\n",
    "plt.show()"
   ]
  },
  {
   "cell_type": "code",
   "execution_count": null,
   "id": "b651bde2-7b75-4712-be3f-0835398eb59f",
   "metadata": {},
   "outputs": [],
   "source": [
    "# Count plot for months\n",
    "sns.countplot(x='month', data=features, palette=\"Set1\")\n",
    "plt.show()"
   ]
  },
  {
   "cell_type": "code",
   "execution_count": null,
   "id": "c144c06b-0527-449d-97e0-e88f321c6480",
   "metadata": {},
   "outputs": [],
   "source": [
    "# Violin plot for DMC and DC\n",
    "plt.figure(figsize=(16, 8))\n",
    "sns.violinplot(x='DMC', y='DC', data=features)\n",
    "plt.show()"
   ]
  },
  {
   "cell_type": "code",
   "execution_count": null,
   "id": "73cb5595-43cd-4e9b-8209-7ce3e0a0c0bd",
   "metadata": {},
   "outputs": [],
   "source": [
    "#Encode Categorical Variables\n",
    "# Import label encoder\n",
    "from sklearn.preprocessing import LabelEncoder\n",
    "\n",
    "# Initialize label encoder\n",
    "encoder = LabelEncoder()\n",
    "\n",
    "# Encode categorical variables\n",
    "forest['month'] = encoder.fit_transform(forest['month'])\n",
    "forest['day'] = encoder.fit_transform(forest['day'])\n",
    "forest['size_category'] = encoder.fit_transform(forest['size_category'])\n",
    "\n",
    "# Display the first few rows of the encoded DataFrame\n",
    "forest.head()\n"
   ]
  },
  {
   "cell_type": "code",
   "execution_count": null,
   "id": "08ddb57a-42fb-4ce3-a985-f212dd5b150a",
   "metadata": {},
   "outputs": [],
   "source": [
    "#Split Data into Features and Target\n",
    "# Define features and target variable\n",
    "X_forest = forest.iloc[:, 0:11]\n",
    "y_forest = forest.iloc[:, -1]\n",
    "\n",
    "# Display the first few rows of features\n",
    "X_forest.head()"
   ]
  },
  {
   "cell_type": "code",
   "execution_count": null,
   "id": "d1fb6ed3-3b86-4e07-aab3-d22e93969471",
   "metadata": {},
   "outputs": [],
   "source": [
    "# Display the target variable\n",
    "y_forest.head()"
   ]
  },
  {
   "cell_type": "code",
   "execution_count": null,
   "id": "99983a0c-44a8-45bf-a15b-e2b619ec0976",
   "metadata": {},
   "outputs": [],
   "source": [
    "#Visualize Data\n",
    "# Pairplot to visualize relationships\n",
    "sns.pairplot(forest, hue='size_category')\n",
    "plt.show()"
   ]
  },
  {
   "cell_type": "code",
   "execution_count": null,
   "id": "3931d3e4-1bdd-4732-9d29-f5a83f6b6c6a",
   "metadata": {},
   "outputs": [],
   "source": [
    "# Heatmap to visualize correlations\n",
    "plt.figure(figsize=(14, 6))\n",
    "sns.heatmap(forest.corr(), cmap='magma', annot=True, fmt=\".3f\")\n",
    "plt.show()"
   ]
  },
  {
   "cell_type": "code",
   "execution_count": null,
   "id": "1aeaa53e-78d4-4969-a3ce-b40802de1a67",
   "metadata": {},
   "outputs": [],
   "source": [
    "!pip install tensorflow"
   ]
  },
  {
   "cell_type": "code",
   "execution_count": null,
   "id": "c62ba02c-9bde-44f2-bd27-0afe8d1fbc16",
   "metadata": {},
   "outputs": [],
   "source": [
    "#Build and Train a Neural Network\n",
    "# Import necessary libraries for neural network\n",
    "from keras.models import Sequential\n",
    "from keras.layers import Dense\n",
    "from keras.optimizers import Adam\n",
    "\n",
    "# Set random seed for reproducibility\n",
    "np.random.seed(7)\n",
    "\n",
    "# Define the model\n",
    "model_forest = Sequential()\n",
    "model_forest.add(Dense(14, input_dim=11, activation='relu'))\n",
    "model_forest.add(Dense(11, activation='relu'))\n",
    "model_forest.add(Dense(1, activation='sigmoid'))\n",
    "\n",
    "# Compile the model\n",
    "model_forest.compile(loss='binary_crossentropy', optimizer='adam', metrics=['accuracy'])\n",
    "\n",
    "# Train the model\n",
    "history_forest = model_forest.fit(X_forest, y_forest, validation_split=0.33, epochs=250, batch_size=10)"
   ]
  },
  {
   "cell_type": "code",
   "execution_count": null,
   "id": "19b07656-ded5-4ee8-8c60-76f640e1ea6f",
   "metadata": {},
   "outputs": [],
   "source": [
    "# Evaluate the model\n",
    "scores_forest = model_forest.evaluate(X_forest, y_forest)\n",
    "print(\"Accuracy: %.2f%%\" % (scores_forest[1] * 100))"
   ]
  },
  {
   "cell_type": "code",
   "execution_count": null,
   "id": "16c2466b-65a7-44ae-b38c-fd6a5d7e2e6b",
   "metadata": {},
   "outputs": [],
   "source": [
    "# Visualize training history for accuracy\n",
    "plt.plot(history_forest.history['accuracy'])\n",
    "plt.plot(history_forest.history['val_accuracy'])\n",
    "plt.title('Model Accuracy')\n",
    "plt.ylabel('Accuracy')\n",
    "plt.xlabel('Epoch')\n",
    "plt.legend(['Train', 'Test'], loc='upper left')\n",
    "plt.show()"
   ]
  },
  {
   "cell_type": "code",
   "execution_count": null,
   "id": "793c15fb-9e71-4c60-a98d-4a051806198e",
   "metadata": {},
   "outputs": [],
   "source": [
    "# Visualize training history for loss\n",
    "plt.plot(history_forest.history['loss'])\n",
    "plt.plot(history_forest.history['val_loss'])\n",
    "plt.title('Model Loss')\n",
    "plt.ylabel('Loss')\n",
    "plt.xlabel('Epoch')\n",
    "plt.legend(['Train', 'Test'], loc='upper left')\n",
    "plt.show()"
   ]
  },
  {
   "cell_type": "markdown",
   "id": "2dd2c84e-3fb5-4d30-94cf-bea4d25aa533",
   "metadata": {},
   "source": [
    "## Gas Turbine Dataset"
   ]
  },
  {
   "cell_type": "code",
   "execution_count": null,
   "id": "10604fdc-9b4a-4213-a778-ce3a7a64948f",
   "metadata": {},
   "outputs": [],
   "source": [
    "#Load and Explore the Gas Turbine Dataset\n",
    "# Load the gas turbine dataset\n",
    "turbine_data = pd.read_csv('gas_turbines.csv')\n",
    "\n",
    "# Display the first few rows of the dataset\n",
    "turbine_data.head()"
   ]
  },
  {
   "cell_type": "code",
   "execution_count": null,
   "id": "b99f34d6-2038-4f50-ab7a-03948eca2963",
   "metadata": {},
   "outputs": [],
   "source": [
    "# Remove duplicate rows\n",
    "turbine_data_clean = turbine_data.drop_duplicates()\n",
    "\n",
    "# Display the shape of the cleaned dataset\n",
    "turbine_data_clean.shape"
   ]
  },
  {
   "cell_type": "code",
   "execution_count": null,
   "id": "c1dc4643-c777-4bbb-bb26-c22240cc2a63",
   "metadata": {},
   "outputs": [],
   "source": [
    "# Check for missing values\n",
    "turbine_data_clean.isnull().sum()"
   ]
  },
  {
   "cell_type": "code",
   "execution_count": null,
   "id": "eba92eb1-6354-4389-8181-59e4d3ac7a68",
   "metadata": {},
   "outputs": [],
   "source": [
    "# Get information about the dataset\n",
    "turbine_data_clean.info()"
   ]
  },
  {
   "cell_type": "code",
   "execution_count": null,
   "id": "d9742049-1907-4826-8095-08fbb752469c",
   "metadata": {},
   "outputs": [],
   "source": [
    "# Describe the dataset\n",
    "turbine_data_clean.describe()"
   ]
  },
  {
   "cell_type": "code",
   "execution_count": null,
   "id": "9cbf10fe-1e1b-44ee-84f0-aff277efcfa6",
   "metadata": {},
   "outputs": [],
   "source": [
    "#Visualize the Gas Turbine Data\n",
    "# Pairplot to visualize relationships\n",
    "sns.pairplot(turbine_data_clean)\n",
    "plt.show()"
   ]
  },
  {
   "cell_type": "code",
   "execution_count": null,
   "id": "e9b89fae-bd66-4ab6-83cb-e0be6440e989",
   "metadata": {},
   "outputs": [],
   "source": [
    "# Heatmap to visualize correlations\n",
    "plt.figure(figsize=(14, 6))\n",
    "sns.heatmap(turbine_data_clean.corr(), cmap='magma', annot=True, fmt=\".3f\")\n",
    "plt.show()"
   ]
  },
  {
   "cell_type": "code",
   "execution_count": null,
   "id": "e7ec19d7-6c9c-4cb2-b85b-18b7a5151464",
   "metadata": {},
   "outputs": [],
   "source": [
    "# Violin plots for various features against TEY\n",
    "f, axes = plt.subplots(2, 2, figsize=(12, 8))\n",
    "sns.violinplot(x='AT', y='TEY', data=turbine_data_clean, ax=axes[0, 0])\n",
    "sns.violinplot(x='AP', y='TEY', data=turbine_data_clean, ax=axes[0, 1])\n",
    "sns.violinplot(x='AH', y='TEY', data=turbine_data_clean, ax=axes[1, 0])\n",
    "sns.violinplot(x='AFDP', y='TEY', data=turbine_data_clean, ax=axes[1, 1])\n",
    "plt.tight_layout()\n",
    "plt.show()"
   ]
  },
  {
   "cell_type": "code",
   "execution_count": null,
   "id": "7dd8c811-4c80-453d-a35b-b8debafb164a",
   "metadata": {},
   "outputs": [],
   "source": [
    "#Build and Train a Neural Network for Gas Turbine Data\n",
    "# Set random seed for reproducibility\n",
    "np.random.seed(8)\n",
    "\n",
    "# Define features and target variable\n",
    "X_turbine = turbine_data_clean.drop(['TEY'], axis=1)\n",
    "y_turbine = turbine_data_clean['TEY']\n",
    "\n",
    "# Define the model\n",
    "model_turbine = Sequential()\n",
    "model_turbine.add(Dense(26, input_dim=10, activation='relu'))\n",
    "model_turbine.add(Dense(26, activation='tanh'))\n",
    "model_turbine.add(Dense(26, activation='sigmoid'))\n",
    "model_turbine.add(Dense(26, activation='linear'))\n",
    "\n",
    "# Compile the model\n",
    "model_turbine.compile(loss='mse', optimizer='adam', metrics=['mean_absolute_percentage_error'])\n",
    "\n",
    "# Train the model\n",
    "history_turbine = model_turbine.fit(X_turbine, y_turbine, validation_split=0.33, epochs=20, batch_size=10)"
   ]
  },
  {
   "cell_type": "code",
   "execution_count": null,
   "id": "6341086c-720d-42cc-bc88-b9377ecae265",
   "metadata": {},
   "outputs": [],
   "source": [
    "# Evaluate the model\n",
    "scores_turbine = model_turbine.evaluate(X_turbine, y_turbine)\n",
    "print(\"MAPE: %.2f%%\" % scores_turbine[1])"
   ]
  },
  {
   "cell_type": "code",
   "execution_count": null,
   "id": "c56d7a86-0b17-4a87-934c-981b656368de",
   "metadata": {},
   "outputs": [],
   "source": [
    "# Visualize training history for MAPE\n",
    "plt.plot(history_turbine.history['mean_absolute_percentage_error'])\n",
    "plt.plot(history_turbine.history['val_mean_absolute_percentage_error'])\n",
    "plt.title('Model MAPE')\n",
    "plt.ylabel('MAPE')\n",
    "plt.xlabel('Epoch')\n",
    "plt.legend(['Train', 'Test'], loc='upper left')\n",
    "plt.show()"
   ]
  },
  {
   "cell_type": "code",
   "execution_count": null,
   "id": "f0bc6826-a263-4bb2-89a4-3e47afa7bf39",
   "metadata": {},
   "outputs": [],
   "source": [
    "# Visualize training history for loss\n",
    "plt.plot(history_turbine.history['loss'])\n",
    "plt.plot(history_turbine.history['val_loss'])\n",
    "plt.title('Model Loss')\n",
    "plt.ylabel('Loss')\n",
    "plt.xlabel('Epoch')\n",
    "plt.legend(['Train', 'Test'], loc='upper left')\n",
    "plt.show()"
   ]
  },
  {
   "cell_type": "code",
   "execution_count": null,
   "id": "6b7f8e5b-ac0c-4112-bbfd-aa3535cfb072",
   "metadata": {},
   "outputs": [],
   "source": []
  }
 ],
 "metadata": {
  "kernelspec": {
   "display_name": "Python 3 (ipykernel)",
   "language": "python",
   "name": "python3"
  },
  "language_info": {
   "codemirror_mode": {
    "name": "ipython",
    "version": 3
   },
   "file_extension": ".py",
   "mimetype": "text/x-python",
   "name": "python",
   "nbconvert_exporter": "python",
   "pygments_lexer": "ipython3",
   "version": "3.12.2"
  }
 },
 "nbformat": 4,
 "nbformat_minor": 5
}
